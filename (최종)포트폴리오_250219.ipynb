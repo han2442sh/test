{
 "cells": [
  {
   "cell_type": "markdown",
   "metadata": {
    "id": "ziLJbAzvStoq"
   },
   "source": [
    "### 5. 머신러닝"
   ]
  },
  {
   "cell_type": "markdown",
   "metadata": {
    "id": "rRorQs5BlrQG"
   },
   "source": [
    "\n",
    "#### 5.1 클러스터링 (카테고리별 군집화)\n",
    "활용 목표\n",
    "- 비슷한 제품끼리 묶어 각 카테고리별 시장 트렌드 분석  \n",
    "- 군집별 특성을 기반으로 마케팅 전략 수립  "
   ]
  },
  {
   "cell_type": "code",
   "execution_count": 1,
   "metadata": {
    "id": "FG7LJ3PwlrQG"
   },
   "outputs": [],
   "source": [
    "import pandas as pd\n",
    "import numpy as np\n",
    "import matplotlib.pyplot as plt\n",
    "import seaborn as sns\n",
    "from konlpy.tag import Okt\n",
    "from sklearn.model_selection import train_test_split"
   ]
  },
  {
   "cell_type": "code",
   "execution_count": 99,
   "metadata": {
    "colab": {
     "base_uri": "https://localhost:8080/",
     "height": 310
    },
    "executionInfo": {
     "elapsed": 200,
     "status": "ok",
     "timestamp": 1739290196493,
     "user": {
      "displayName": "한서희",
      "userId": "01642867946124039843"
     },
     "user_tz": -540
    },
    "id": "35QyiCJtlrQG",
    "outputId": "e3891b40-1548-41a2-a1c2-43100824145b"
   },
   "outputs": [
    {
     "data": {
      "text/html": [
       "<div>\n",
       "<style scoped>\n",
       "    .dataframe tbody tr th:only-of-type {\n",
       "        vertical-align: middle;\n",
       "    }\n",
       "\n",
       "    .dataframe tbody tr th {\n",
       "        vertical-align: top;\n",
       "    }\n",
       "\n",
       "    .dataframe thead th {\n",
       "        text-align: right;\n",
       "    }\n",
       "</style>\n",
       "<table border=\"1\" class=\"dataframe\">\n",
       "  <thead>\n",
       "    <tr style=\"text-align: right;\">\n",
       "      <th></th>\n",
       "      <th>카테고리</th>\n",
       "      <th>브랜드</th>\n",
       "      <th>제품명</th>\n",
       "      <th>가격</th>\n",
       "      <th>총평점</th>\n",
       "      <th>총 리뷰 수</th>\n",
       "    </tr>\n",
       "  </thead>\n",
       "  <tbody>\n",
       "    <tr>\n",
       "      <th>0</th>\n",
       "      <td>로션</td>\n",
       "      <td>에스트라</td>\n",
       "      <td>에스트라 아토베리어365 로션 150ml 리필 기획</td>\n",
       "      <td>38000</td>\n",
       "      <td>4.9</td>\n",
       "      <td>2494</td>\n",
       "    </tr>\n",
       "    <tr>\n",
       "      <th>1</th>\n",
       "      <td>로션</td>\n",
       "      <td>포엘리에</td>\n",
       "      <td>포엘리에 옴므 5 IN 1 미백 주름 기능성 올인원 남자 로션 150ml</td>\n",
       "      <td>15500</td>\n",
       "      <td>4.9</td>\n",
       "      <td>154</td>\n",
       "    </tr>\n",
       "    <tr>\n",
       "      <th>2</th>\n",
       "      <td>로션</td>\n",
       "      <td>온그리디언츠</td>\n",
       "      <td>온그리디언츠 스킨 베리어 카밍 로션 기획</td>\n",
       "      <td>30510</td>\n",
       "      <td>4.9</td>\n",
       "      <td>3100</td>\n",
       "    </tr>\n",
       "    <tr>\n",
       "      <th>3</th>\n",
       "      <td>로션</td>\n",
       "      <td>아이디얼포맨</td>\n",
       "      <td>아이디얼포맨 퍼펙트 올인원 토트넘 홋스퍼 에디션</td>\n",
       "      <td>28310</td>\n",
       "      <td>4.9</td>\n",
       "      <td>3810</td>\n",
       "    </tr>\n",
       "    <tr>\n",
       "      <th>4</th>\n",
       "      <td>로션</td>\n",
       "      <td>아이디얼포맨</td>\n",
       "      <td>아이디얼포맨 올인원 토트넘 홋스퍼 에디션 2종</td>\n",
       "      <td>28310</td>\n",
       "      <td>4.9</td>\n",
       "      <td>4408</td>\n",
       "    </tr>\n",
       "  </tbody>\n",
       "</table>\n",
       "</div>"
      ],
      "text/plain": [
       "  카테고리     브랜드                                       제품명     가격  총평점  총 리뷰 수\n",
       "0   로션    에스트라              에스트라 아토베리어365 로션 150ml 리필 기획  38000  4.9    2494\n",
       "1   로션    포엘리에  포엘리에 옴므 5 IN 1 미백 주름 기능성 올인원 남자 로션 150ml  15500  4.9     154\n",
       "2   로션  온그리디언츠                    온그리디언츠 스킨 베리어 카밍 로션 기획  30510  4.9    3100\n",
       "3   로션  아이디얼포맨                아이디얼포맨 퍼펙트 올인원 토트넘 홋스퍼 에디션  28310  4.9    3810\n",
       "4   로션  아이디얼포맨                 아이디얼포맨 올인원 토트넘 홋스퍼 에디션 2종  28310  4.9    4408"
      ]
     },
     "execution_count": 99,
     "metadata": {},
     "output_type": "execute_result"
    }
   ],
   "source": [
    "제품 = pd.read_csv('제품_정제완료_250212.csv')\n",
    "제품.head()"
   ]
  },
  {
   "cell_type": "code",
   "execution_count": 100,
   "metadata": {
    "colab": {
     "base_uri": "https://localhost:8080/"
    },
    "executionInfo": {
     "elapsed": 47,
     "status": "ok",
     "timestamp": 1739290226165,
     "user": {
      "displayName": "한서희",
      "userId": "01642867946124039843"
     },
     "user_tz": -540
    },
    "id": "0_-MU7YVlrQG",
    "outputId": "58f089f9-679e-4a5c-b9a0-20144b3a5447"
   },
   "outputs": [
    {
     "name": "stdout",
     "output_type": "stream",
     "text": [
      "<class 'pandas.core.frame.DataFrame'>\n",
      "RangeIndex: 3168 entries, 0 to 3167\n",
      "Data columns (total 6 columns):\n",
      " #   Column  Non-Null Count  Dtype  \n",
      "---  ------  --------------  -----  \n",
      " 0   카테고리    3168 non-null   object \n",
      " 1   브랜드     3168 non-null   object \n",
      " 2   제품명     3168 non-null   object \n",
      " 3   가격      3168 non-null   int64  \n",
      " 4   총평점     3168 non-null   float64\n",
      " 5   총 리뷰 수  3168 non-null   int64  \n",
      "dtypes: float64(1), int64(2), object(3)\n",
      "memory usage: 148.6+ KB\n"
     ]
    }
   ],
   "source": [
    "제품.info()"
   ]
  },
  {
   "cell_type": "code",
   "execution_count": 101,
   "metadata": {
    "colab": {
     "base_uri": "https://localhost:8080/"
    },
    "executionInfo": {
     "elapsed": 36,
     "status": "ok",
     "timestamp": 1739290228321,
     "user": {
      "displayName": "한서희",
      "userId": "01642867946124039843"
     },
     "user_tz": -540
    },
    "id": "Evt7FYwAlrQG",
    "outputId": "a3626a18-10c4-4223-a735-e2e0ff77f3d6"
   },
   "outputs": [
    {
     "data": {
      "text/plain": [
       "np.int64(7)"
      ]
     },
     "execution_count": 101,
     "metadata": {},
     "output_type": "execute_result"
    }
   ],
   "source": [
    "제품['제품명'].duplicated().sum()"
   ]
  },
  {
   "cell_type": "code",
   "execution_count": 102,
   "metadata": {
    "colab": {
     "base_uri": "https://localhost:8080/",
     "height": 748
    },
    "executionInfo": {
     "elapsed": 12,
     "status": "ok",
     "timestamp": 1739290234870,
     "user": {
      "displayName": "한서희",
      "userId": "01642867946124039843"
     },
     "user_tz": -540
    },
    "id": "XD__73IblrQG",
    "outputId": "91482cf5-ae35-400a-f662-dc5310c1d722"
   },
   "outputs": [
    {
     "data": {
      "text/html": [
       "<div>\n",
       "<style scoped>\n",
       "    .dataframe tbody tr th:only-of-type {\n",
       "        vertical-align: middle;\n",
       "    }\n",
       "\n",
       "    .dataframe tbody tr th {\n",
       "        vertical-align: top;\n",
       "    }\n",
       "\n",
       "    .dataframe thead th {\n",
       "        text-align: right;\n",
       "    }\n",
       "</style>\n",
       "<table border=\"1\" class=\"dataframe\">\n",
       "  <thead>\n",
       "    <tr style=\"text-align: right;\">\n",
       "      <th></th>\n",
       "      <th>카테고리</th>\n",
       "      <th>브랜드</th>\n",
       "      <th>제품명</th>\n",
       "      <th>가격</th>\n",
       "      <th>총평점</th>\n",
       "      <th>총 리뷰 수</th>\n",
       "    </tr>\n",
       "  </thead>\n",
       "  <tbody>\n",
       "    <tr>\n",
       "      <th>1872</th>\n",
       "      <td>에센스&amp;세럼&amp;앰플</td>\n",
       "      <td>CKD</td>\n",
       "      <td>CKD 레티노콜라겐 저분자 300 집중크림 25ml</td>\n",
       "      <td>19900</td>\n",
       "      <td>4.8</td>\n",
       "      <td>21</td>\n",
       "    </tr>\n",
       "    <tr>\n",
       "      <th>2335</th>\n",
       "      <td>크림</td>\n",
       "      <td>CKD</td>\n",
       "      <td>CKD 레티노콜라겐 저분자 300 집중크림 25ml</td>\n",
       "      <td>19900</td>\n",
       "      <td>4.8</td>\n",
       "      <td>21</td>\n",
       "    </tr>\n",
       "    <tr>\n",
       "      <th>110</th>\n",
       "      <td>로션</td>\n",
       "      <td>달팡</td>\n",
       "      <td>달팡 인트랄 액티브 스태빌라이징 로션 100ml</td>\n",
       "      <td>91800</td>\n",
       "      <td>4.5</td>\n",
       "      <td>8</td>\n",
       "    </tr>\n",
       "    <tr>\n",
       "      <th>1880</th>\n",
       "      <td>에센스&amp;세럼&amp;앰플</td>\n",
       "      <td>달팡</td>\n",
       "      <td>달팡 인트랄 액티브 스태빌라이징 로션 100ml</td>\n",
       "      <td>91800</td>\n",
       "      <td>4.5</td>\n",
       "      <td>8</td>\n",
       "    </tr>\n",
       "    <tr>\n",
       "      <th>1877</th>\n",
       "      <td>에센스&amp;세럼&amp;앰플</td>\n",
       "      <td>더마픽스</td>\n",
       "      <td>더마픽스 리얼 콜라겐 텐션업 멀티스틱밤</td>\n",
       "      <td>20000</td>\n",
       "      <td>4.5</td>\n",
       "      <td>32</td>\n",
       "    </tr>\n",
       "    <tr>\n",
       "      <th>2337</th>\n",
       "      <td>크림</td>\n",
       "      <td>더마픽스</td>\n",
       "      <td>더마픽스 리얼 콜라겐 텐션업 멀티스틱밤</td>\n",
       "      <td>20000</td>\n",
       "      <td>4.5</td>\n",
       "      <td>32</td>\n",
       "    </tr>\n",
       "    <tr>\n",
       "      <th>1879</th>\n",
       "      <td>에센스&amp;세럼&amp;앰플</td>\n",
       "      <td>아이소이</td>\n",
       "      <td>아이소이 인텐시브 에너자이징 크림EX 30ml</td>\n",
       "      <td>34400</td>\n",
       "      <td>4.6</td>\n",
       "      <td>1692</td>\n",
       "    </tr>\n",
       "    <tr>\n",
       "      <th>2338</th>\n",
       "      <td>크림</td>\n",
       "      <td>아이소이</td>\n",
       "      <td>아이소이 인텐시브 에너자이징 크림EX 30ml</td>\n",
       "      <td>34400</td>\n",
       "      <td>4.6</td>\n",
       "      <td>1692</td>\n",
       "    </tr>\n",
       "    <tr>\n",
       "      <th>1866</th>\n",
       "      <td>에센스&amp;세럼&amp;앰플</td>\n",
       "      <td>아크네스</td>\n",
       "      <td>아크네스 모이스처 크림 60ml</td>\n",
       "      <td>18000</td>\n",
       "      <td>4.8</td>\n",
       "      <td>647</td>\n",
       "    </tr>\n",
       "    <tr>\n",
       "      <th>2328</th>\n",
       "      <td>크림</td>\n",
       "      <td>아크네스</td>\n",
       "      <td>아크네스 모이스처 크림 60ml</td>\n",
       "      <td>18000</td>\n",
       "      <td>4.8</td>\n",
       "      <td>647</td>\n",
       "    </tr>\n",
       "    <tr>\n",
       "      <th>1865</th>\n",
       "      <td>에센스&amp;세럼&amp;앰플</td>\n",
       "      <td>아크네스</td>\n",
       "      <td>아크네스 스팟 클리어 크림 패치 18g</td>\n",
       "      <td>7500</td>\n",
       "      <td>4.5</td>\n",
       "      <td>354</td>\n",
       "    </tr>\n",
       "    <tr>\n",
       "      <th>2327</th>\n",
       "      <td>크림</td>\n",
       "      <td>아크네스</td>\n",
       "      <td>아크네스 스팟 클리어 크림 패치 18g</td>\n",
       "      <td>7500</td>\n",
       "      <td>4.5</td>\n",
       "      <td>354</td>\n",
       "    </tr>\n",
       "    <tr>\n",
       "      <th>1867</th>\n",
       "      <td>에센스&amp;세럼&amp;앰플</td>\n",
       "      <td>코스알엑스</td>\n",
       "      <td>코스알엑스 에이씨컬렉션 얼티메이트 스팟크림 30g</td>\n",
       "      <td>20000</td>\n",
       "      <td>4.6</td>\n",
       "      <td>51</td>\n",
       "    </tr>\n",
       "    <tr>\n",
       "      <th>2330</th>\n",
       "      <td>크림</td>\n",
       "      <td>코스알엑스</td>\n",
       "      <td>코스알엑스 에이씨컬렉션 얼티메이트 스팟크림 30g</td>\n",
       "      <td>20000</td>\n",
       "      <td>4.6</td>\n",
       "      <td>51</td>\n",
       "    </tr>\n",
       "  </tbody>\n",
       "</table>\n",
       "</div>"
      ],
      "text/plain": [
       "           카테고리    브랜드                           제품명     가격  총평점  총 리뷰 수\n",
       "1872  에센스&세럼&앰플    CKD  CKD 레티노콜라겐 저분자 300 집중크림 25ml  19900  4.8      21\n",
       "2335         크림    CKD  CKD 레티노콜라겐 저분자 300 집중크림 25ml  19900  4.8      21\n",
       "110          로션     달팡    달팡 인트랄 액티브 스태빌라이징 로션 100ml  91800  4.5       8\n",
       "1880  에센스&세럼&앰플     달팡    달팡 인트랄 액티브 스태빌라이징 로션 100ml  91800  4.5       8\n",
       "1877  에센스&세럼&앰플   더마픽스         더마픽스 리얼 콜라겐 텐션업 멀티스틱밤  20000  4.5      32\n",
       "2337         크림   더마픽스         더마픽스 리얼 콜라겐 텐션업 멀티스틱밤  20000  4.5      32\n",
       "1879  에센스&세럼&앰플   아이소이     아이소이 인텐시브 에너자이징 크림EX 30ml  34400  4.6    1692\n",
       "2338         크림   아이소이     아이소이 인텐시브 에너자이징 크림EX 30ml  34400  4.6    1692\n",
       "1866  에센스&세럼&앰플   아크네스             아크네스 모이스처 크림 60ml  18000  4.8     647\n",
       "2328         크림   아크네스             아크네스 모이스처 크림 60ml  18000  4.8     647\n",
       "1865  에센스&세럼&앰플   아크네스         아크네스 스팟 클리어 크림 패치 18g   7500  4.5     354\n",
       "2327         크림   아크네스         아크네스 스팟 클리어 크림 패치 18g   7500  4.5     354\n",
       "1867  에센스&세럼&앰플  코스알엑스   코스알엑스 에이씨컬렉션 얼티메이트 스팟크림 30g  20000  4.6      51\n",
       "2330         크림  코스알엑스   코스알엑스 에이씨컬렉션 얼티메이트 스팟크림 30g  20000  4.6      51"
      ]
     },
     "execution_count": 102,
     "metadata": {},
     "output_type": "execute_result"
    }
   ],
   "source": [
    "제품[제품.duplicated(subset=['제품명'], keep=False)].sort_values(by=['제품명'])"
   ]
  },
  {
   "cell_type": "markdown",
   "metadata": {
    "id": "RERzOMtolrQG"
   },
   "source": [
    "카테고리별로 클러스터링을 진행할 것이므로 제품명이 같지만 카테고리가 다르다면 제거하지 않음."
   ]
  },
  {
   "cell_type": "markdown",
   "metadata": {
    "id": "RtRITNrYlrQG"
   },
   "source": [
    "#### 숫자타입 결측치 확인"
   ]
  },
  {
   "cell_type": "code",
   "execution_count": 103,
   "metadata": {
    "colab": {
     "base_uri": "https://localhost:8080/"
    },
    "executionInfo": {
     "elapsed": 47,
     "status": "ok",
     "timestamp": 1739290247677,
     "user": {
      "displayName": "한서희",
      "userId": "01642867946124039843"
     },
     "user_tz": -540
    },
    "id": "93yp6ZnDlrQG",
    "outputId": "52513a44-7b25-4356-8089-6b12ff34e21c"
   },
   "outputs": [
    {
     "data": {
      "text/plain": [
       "Index(['가격', '총평점', '총 리뷰 수'], dtype='object')"
      ]
     },
     "execution_count": 103,
     "metadata": {},
     "output_type": "execute_result"
    }
   ],
   "source": [
    "# 숫자타입 컬럼명\n",
    "import numpy as np\n",
    "num_col = 제품.select_dtypes(include=np.number).columns\n",
    "num_col"
   ]
  },
  {
   "cell_type": "code",
   "execution_count": 104,
   "metadata": {
    "colab": {
     "base_uri": "https://localhost:8080/"
    },
    "executionInfo": {
     "elapsed": 39,
     "status": "ok",
     "timestamp": 1739290249051,
     "user": {
      "displayName": "한서희",
      "userId": "01642867946124039843"
     },
     "user_tz": -540
    },
    "id": "zlRptcwDlrQH",
    "outputId": "2e70f82a-b02b-4047-f75d-3a01500f9b45"
   },
   "outputs": [
    {
     "name": "stdout",
     "output_type": "stream",
     "text": [
      "가격\n",
      "총평점\n",
      "총 리뷰 수\n"
     ]
    }
   ],
   "source": [
    "for i in num_col:\n",
    "  print(i)"
   ]
  },
  {
   "cell_type": "code",
   "execution_count": 105,
   "metadata": {
    "colab": {
     "base_uri": "https://localhost:8080/"
    },
    "executionInfo": {
     "elapsed": 8,
     "status": "ok",
     "timestamp": 1739290250341,
     "user": {
      "displayName": "한서희",
      "userId": "01642867946124039843"
     },
     "user_tz": -540
    },
    "id": "G_nbfWRhlrQH",
    "outputId": "1713534a-e64e-4e0d-f372-2c6848c024fe"
   },
   "outputs": [
    {
     "name": "stdout",
     "output_type": "stream",
     "text": [
      "가격: 0\n",
      "총평점: 0\n",
      "총 리뷰 수: 0\n"
     ]
    }
   ],
   "source": [
    "# 1보다 작은 수를 가진 숫자타입 컬럼의 데이터 갯수\n",
    "for col_name in num_col:\n",
    "  print(f'{col_name}: {len(제품[제품[col_name] < 1])}')"
   ]
  },
  {
   "cell_type": "code",
   "execution_count": 107,
   "metadata": {
    "colab": {
     "base_uri": "https://localhost:8080/"
    },
    "executionInfo": {
     "elapsed": 54,
     "status": "ok",
     "timestamp": 1739290251803,
     "user": {
      "displayName": "한서희",
      "userId": "01642867946124039843"
     },
     "user_tz": -540
    },
    "id": "TjLBcQlqlrQH",
    "outputId": "31bc00b5-1382-40c7-9fb8-71c01260eede"
   },
   "outputs": [
    {
     "name": "stdout",
     "output_type": "stream",
     "text": [
      "가격: 0\n",
      "총평점: 0\n",
      "총 리뷰 수: 0\n"
     ]
    }
   ],
   "source": [
    "# 0보다 작은 수를 가진 숫자타입 컬럼의 데이터 갯수\n",
    "for col_name in num_col:\n",
    "  print(f'{col_name}: {len(제품[제품[col_name] < 0])}')"
   ]
  },
  {
   "cell_type": "markdown",
   "metadata": {
    "id": "Odr8wLvulrQH"
   },
   "source": [
    "#### 기술통계 수치확인"
   ]
  },
  {
   "cell_type": "code",
   "execution_count": 108,
   "metadata": {
    "colab": {
     "base_uri": "https://localhost:8080/",
     "height": 300
    },
    "executionInfo": {
     "elapsed": 100,
     "status": "ok",
     "timestamp": 1739290253006,
     "user": {
      "displayName": "한서희",
      "userId": "01642867946124039843"
     },
     "user_tz": -540
    },
    "id": "yWmk4jSTlrQH",
    "outputId": "31f4ee52-20bf-481a-e19d-5072ee33e38b"
   },
   "outputs": [
    {
     "data": {
      "text/html": [
       "<div>\n",
       "<style scoped>\n",
       "    .dataframe tbody tr th:only-of-type {\n",
       "        vertical-align: middle;\n",
       "    }\n",
       "\n",
       "    .dataframe tbody tr th {\n",
       "        vertical-align: top;\n",
       "    }\n",
       "\n",
       "    .dataframe thead th {\n",
       "        text-align: right;\n",
       "    }\n",
       "</style>\n",
       "<table border=\"1\" class=\"dataframe\">\n",
       "  <thead>\n",
       "    <tr style=\"text-align: right;\">\n",
       "      <th></th>\n",
       "      <th>가격</th>\n",
       "      <th>총평점</th>\n",
       "      <th>총 리뷰 수</th>\n",
       "    </tr>\n",
       "  </thead>\n",
       "  <tbody>\n",
       "    <tr>\n",
       "      <th>count</th>\n",
       "      <td>3168.000000</td>\n",
       "      <td>3168.000000</td>\n",
       "      <td>3168.000000</td>\n",
       "    </tr>\n",
       "    <tr>\n",
       "      <th>mean</th>\n",
       "      <td>23982.708333</td>\n",
       "      <td>4.766540</td>\n",
       "      <td>2230.341225</td>\n",
       "    </tr>\n",
       "    <tr>\n",
       "      <th>std</th>\n",
       "      <td>14995.232533</td>\n",
       "      <td>0.160373</td>\n",
       "      <td>7934.782194</td>\n",
       "    </tr>\n",
       "    <tr>\n",
       "      <th>min</th>\n",
       "      <td>750.000000</td>\n",
       "      <td>2.700000</td>\n",
       "      <td>1.000000</td>\n",
       "    </tr>\n",
       "    <tr>\n",
       "      <th>25%</th>\n",
       "      <td>15300.000000</td>\n",
       "      <td>4.700000</td>\n",
       "      <td>87.000000</td>\n",
       "    </tr>\n",
       "    <tr>\n",
       "      <th>50%</th>\n",
       "      <td>21500.000000</td>\n",
       "      <td>4.800000</td>\n",
       "      <td>408.500000</td>\n",
       "    </tr>\n",
       "    <tr>\n",
       "      <th>75%</th>\n",
       "      <td>29000.000000</td>\n",
       "      <td>4.800000</td>\n",
       "      <td>1796.000000</td>\n",
       "    </tr>\n",
       "    <tr>\n",
       "      <th>max</th>\n",
       "      <td>176000.000000</td>\n",
       "      <td>5.000000</td>\n",
       "      <td>266778.000000</td>\n",
       "    </tr>\n",
       "  </tbody>\n",
       "</table>\n",
       "</div>"
      ],
      "text/plain": [
       "                  가격          총평점         총 리뷰 수\n",
       "count    3168.000000  3168.000000    3168.000000\n",
       "mean    23982.708333     4.766540    2230.341225\n",
       "std     14995.232533     0.160373    7934.782194\n",
       "min       750.000000     2.700000       1.000000\n",
       "25%     15300.000000     4.700000      87.000000\n",
       "50%     21500.000000     4.800000     408.500000\n",
       "75%     29000.000000     4.800000    1796.000000\n",
       "max    176000.000000     5.000000  266778.000000"
      ]
     },
     "execution_count": 108,
     "metadata": {},
     "output_type": "execute_result"
    }
   ],
   "source": [
    "제품.describe()"
   ]
  },
  {
   "cell_type": "code",
   "execution_count": 109,
   "metadata": {
    "colab": {
     "base_uri": "https://localhost:8080/",
     "height": 175
    },
    "executionInfo": {
     "elapsed": 47,
     "status": "ok",
     "timestamp": 1739290254794,
     "user": {
      "displayName": "한서희",
      "userId": "01642867946124039843"
     },
     "user_tz": -540
    },
    "id": "QbXqcR7ylrQH",
    "outputId": "cb8633ab-26d7-445e-8413-c8664bcba644"
   },
   "outputs": [
    {
     "data": {
      "text/html": [
       "<div>\n",
       "<style scoped>\n",
       "    .dataframe tbody tr th:only-of-type {\n",
       "        vertical-align: middle;\n",
       "    }\n",
       "\n",
       "    .dataframe tbody tr th {\n",
       "        vertical-align: top;\n",
       "    }\n",
       "\n",
       "    .dataframe thead th {\n",
       "        text-align: right;\n",
       "    }\n",
       "</style>\n",
       "<table border=\"1\" class=\"dataframe\">\n",
       "  <thead>\n",
       "    <tr style=\"text-align: right;\">\n",
       "      <th></th>\n",
       "      <th>카테고리</th>\n",
       "      <th>브랜드</th>\n",
       "      <th>제품명</th>\n",
       "    </tr>\n",
       "  </thead>\n",
       "  <tbody>\n",
       "    <tr>\n",
       "      <th>count</th>\n",
       "      <td>3168</td>\n",
       "      <td>3168</td>\n",
       "      <td>3168</td>\n",
       "    </tr>\n",
       "    <tr>\n",
       "      <th>unique</th>\n",
       "      <td>10</td>\n",
       "      <td>405</td>\n",
       "      <td>3161</td>\n",
       "    </tr>\n",
       "    <tr>\n",
       "      <th>top</th>\n",
       "      <td>에센스&amp;세럼&amp;앰플</td>\n",
       "      <td>아비브</td>\n",
       "      <td>달팡 인트랄 액티브 스태빌라이징 로션 100ml</td>\n",
       "    </tr>\n",
       "    <tr>\n",
       "      <th>freq</th>\n",
       "      <td>472</td>\n",
       "      <td>64</td>\n",
       "      <td>2</td>\n",
       "    </tr>\n",
       "  </tbody>\n",
       "</table>\n",
       "</div>"
      ],
      "text/plain": [
       "             카테고리   브랜드                         제품명\n",
       "count        3168  3168                        3168\n",
       "unique         10   405                        3161\n",
       "top     에센스&세럼&앰플   아비브  달팡 인트랄 액티브 스태빌라이징 로션 100ml\n",
       "freq          472    64                           2"
      ]
     },
     "execution_count": 109,
     "metadata": {},
     "output_type": "execute_result"
    }
   ],
   "source": [
    "제품.describe(include=object)"
   ]
  },
  {
   "cell_type": "markdown",
   "metadata": {
    "id": "GIU2r8d7lrQH"
   },
   "source": [
    "- 숫자타입 데이터에 대해 크게 정제할 것이 없음."
   ]
  },
  {
   "cell_type": "code",
   "execution_count": 110,
   "metadata": {
    "id": "c9AhBdSElrQH"
   },
   "outputs": [],
   "source": [
    "제품.to_csv('제품_머신러닝_전처리완료_250219.csv', index=False)"
   ]
  },
  {
   "cell_type": "code",
   "execution_count": 179,
   "metadata": {
    "colab": {
     "base_uri": "https://localhost:8080/",
     "height": 310
    },
    "executionInfo": {
     "elapsed": 112,
     "status": "ok",
     "timestamp": 1739290281100,
     "user": {
      "displayName": "한서희",
      "userId": "01642867946124039843"
     },
     "user_tz": -540
    },
    "id": "WkDc3nkylrQH",
    "outputId": "5b6252a8-e6d6-4852-b957-6a2a343dea37"
   },
   "outputs": [
    {
     "data": {
      "text/html": [
       "<div>\n",
       "<style scoped>\n",
       "    .dataframe tbody tr th:only-of-type {\n",
       "        vertical-align: middle;\n",
       "    }\n",
       "\n",
       "    .dataframe tbody tr th {\n",
       "        vertical-align: top;\n",
       "    }\n",
       "\n",
       "    .dataframe thead th {\n",
       "        text-align: right;\n",
       "    }\n",
       "</style>\n",
       "<table border=\"1\" class=\"dataframe\">\n",
       "  <thead>\n",
       "    <tr style=\"text-align: right;\">\n",
       "      <th></th>\n",
       "      <th>카테고리</th>\n",
       "      <th>브랜드</th>\n",
       "      <th>제품명</th>\n",
       "      <th>가격</th>\n",
       "      <th>총평점</th>\n",
       "      <th>총 리뷰 수</th>\n",
       "    </tr>\n",
       "  </thead>\n",
       "  <tbody>\n",
       "    <tr>\n",
       "      <th>0</th>\n",
       "      <td>로션</td>\n",
       "      <td>에스트라</td>\n",
       "      <td>에스트라 아토베리어365 로션 150ml 리필 기획</td>\n",
       "      <td>38000</td>\n",
       "      <td>4.9</td>\n",
       "      <td>2494</td>\n",
       "    </tr>\n",
       "    <tr>\n",
       "      <th>1</th>\n",
       "      <td>로션</td>\n",
       "      <td>포엘리에</td>\n",
       "      <td>포엘리에 옴므 5 IN 1 미백 주름 기능성 올인원 남자 로션 150ml</td>\n",
       "      <td>15500</td>\n",
       "      <td>4.9</td>\n",
       "      <td>154</td>\n",
       "    </tr>\n",
       "    <tr>\n",
       "      <th>2</th>\n",
       "      <td>로션</td>\n",
       "      <td>온그리디언츠</td>\n",
       "      <td>온그리디언츠 스킨 베리어 카밍 로션 기획</td>\n",
       "      <td>30510</td>\n",
       "      <td>4.9</td>\n",
       "      <td>3100</td>\n",
       "    </tr>\n",
       "    <tr>\n",
       "      <th>3</th>\n",
       "      <td>로션</td>\n",
       "      <td>아이디얼포맨</td>\n",
       "      <td>아이디얼포맨 퍼펙트 올인원 토트넘 홋스퍼 에디션</td>\n",
       "      <td>28310</td>\n",
       "      <td>4.9</td>\n",
       "      <td>3810</td>\n",
       "    </tr>\n",
       "    <tr>\n",
       "      <th>4</th>\n",
       "      <td>로션</td>\n",
       "      <td>아이디얼포맨</td>\n",
       "      <td>아이디얼포맨 올인원 토트넘 홋스퍼 에디션 2종</td>\n",
       "      <td>28310</td>\n",
       "      <td>4.9</td>\n",
       "      <td>4408</td>\n",
       "    </tr>\n",
       "  </tbody>\n",
       "</table>\n",
       "</div>"
      ],
      "text/plain": [
       "  카테고리     브랜드                                       제품명     가격  총평점  총 리뷰 수\n",
       "0   로션    에스트라              에스트라 아토베리어365 로션 150ml 리필 기획  38000  4.9    2494\n",
       "1   로션    포엘리에  포엘리에 옴므 5 IN 1 미백 주름 기능성 올인원 남자 로션 150ml  15500  4.9     154\n",
       "2   로션  온그리디언츠                    온그리디언츠 스킨 베리어 카밍 로션 기획  30510  4.9    3100\n",
       "3   로션  아이디얼포맨                아이디얼포맨 퍼펙트 올인원 토트넘 홋스퍼 에디션  28310  4.9    3810\n",
       "4   로션  아이디얼포맨                 아이디얼포맨 올인원 토트넘 홋스퍼 에디션 2종  28310  4.9    4408"
      ]
     },
     "execution_count": 179,
     "metadata": {},
     "output_type": "execute_result"
    }
   ],
   "source": [
    "df_kmean = pd.read_csv('제품_머신러닝_전처리완료_250219.csv')\n",
    "df_kmean.head()"
   ]
  },
  {
   "cell_type": "code",
   "execution_count": 180,
   "metadata": {
    "id": "LWZ_IHltlrQI"
   },
   "outputs": [],
   "source": [
    "from sklearn.preprocessing import StandardScaler, LabelEncoder\n",
    "from sklearn.cluster import KMeans\n",
    "from sklearn.metrics import silhouette_score\n",
    "import matplotlib.pyplot as plt\n",
    "import seaborn as sns"
   ]
  },
  {
   "cell_type": "markdown",
   "metadata": {
    "id": "jfCD0BiFlrQI"
   },
   "source": [
    "클러스터링 학습에 필요한 열을 추립니다.\n",
    "- 카테고리\n",
    "- 가격\n",
    "- 총평점\n",
    "- 총 리뷰 수"
   ]
  },
  {
   "cell_type": "markdown",
   "metadata": {
    "id": "8WVbUyRZlrQI"
   },
   "source": [
    "인코딩-> 카테고리랑 제품명 레이블인코딩\n"
   ]
  },
  {
   "cell_type": "code",
   "execution_count": 181,
   "metadata": {
    "colab": {
     "base_uri": "https://localhost:8080/"
    },
    "executionInfo": {
     "elapsed": 27,
     "status": "ok",
     "timestamp": 1739290286526,
     "user": {
      "displayName": "한서희",
      "userId": "01642867946124039843"
     },
     "user_tz": -540
    },
    "id": "Mbx5VuBHlrQI",
    "outputId": "8dfb4b61-67f8-43c4-dc2a-02fef1e54320"
   },
   "outputs": [
    {
     "data": {
      "text/plain": [
       "Index(['카테고리', '브랜드', '제품명', '가격', '총평점', '총 리뷰 수'], dtype='object')"
      ]
     },
     "execution_count": 181,
     "metadata": {},
     "output_type": "execute_result"
    }
   ],
   "source": [
    "df_kmean.columns"
   ]
  },
  {
   "cell_type": "code",
   "execution_count": 182,
   "metadata": {
    "colab": {
     "base_uri": "https://localhost:8080/",
     "height": 429
    },
    "executionInfo": {
     "elapsed": 47,
     "status": "ok",
     "timestamp": 1739290288060,
     "user": {
      "displayName": "한서희",
      "userId": "01642867946124039843"
     },
     "user_tz": -540
    },
    "id": "yLWg-va3lrQI",
    "outputId": "b85e6255-7cef-4482-d995-6c04ffb56506"
   },
   "outputs": [
    {
     "data": {
      "text/plain": [
       "카테고리\n",
       "에센스&세럼&앰플    472\n",
       "크림           471\n",
       "시트팩          430\n",
       "클렌징          428\n",
       "선크림          370\n",
       "스킨토너         343\n",
       "로션           234\n",
       "패드           225\n",
       "남성메이크업       113\n",
       "미스트&오일        82\n",
       "Name: count, dtype: int64"
      ]
     },
     "execution_count": 182,
     "metadata": {},
     "output_type": "execute_result"
    }
   ],
   "source": [
    "df_kmean['카테고리'].value_counts()"
   ]
  },
  {
   "cell_type": "code",
   "execution_count": 183,
   "metadata": {
    "id": "CqDs_CkelrQI"
   },
   "outputs": [],
   "source": [
    "selected_col = ['가격', '총평점', '총 리뷰 수','카테고리']"
   ]
  },
  {
   "cell_type": "code",
   "execution_count": 184,
   "metadata": {
    "colab": {
     "base_uri": "https://localhost:8080/"
    },
    "executionInfo": {
     "elapsed": 15,
     "status": "ok",
     "timestamp": 1739290295845,
     "user": {
      "displayName": "한서희",
      "userId": "01642867946124039843"
     },
     "user_tz": -540
    },
    "id": "Ckt2MAoOlrQI",
    "outputId": "1ec0c658-8859-467c-9d52-215abd4f301e"
   },
   "outputs": [],
   "source": [
    "# 범주형 문자형 변수 레이블인코딩\n",
    "label_encoder = LabelEncoder()\n",
    "df_kmean['카테고리'] = label_encoder.fit_transform(df_kmean['카테고리'])"
   ]
  },
  {
   "cell_type": "code",
   "execution_count": 185,
   "metadata": {
    "colab": {
     "base_uri": "https://localhost:8080/",
     "height": 423
    },
    "executionInfo": {
     "elapsed": 93,
     "status": "ok",
     "timestamp": 1739290297823,
     "user": {
      "displayName": "한서희",
      "userId": "01642867946124039843"
     },
     "user_tz": -540
    },
    "id": "XKZ6px1UlrQI",
    "outputId": "ff139ed9-db37-43cc-b71b-0cdd5479eb44"
   },
   "outputs": [
    {
     "data": {
      "text/html": [
       "<div>\n",
       "<style scoped>\n",
       "    .dataframe tbody tr th:only-of-type {\n",
       "        vertical-align: middle;\n",
       "    }\n",
       "\n",
       "    .dataframe tbody tr th {\n",
       "        vertical-align: top;\n",
       "    }\n",
       "\n",
       "    .dataframe thead th {\n",
       "        text-align: right;\n",
       "    }\n",
       "</style>\n",
       "<table border=\"1\" class=\"dataframe\">\n",
       "  <thead>\n",
       "    <tr style=\"text-align: right;\">\n",
       "      <th></th>\n",
       "      <th>label</th>\n",
       "      <th>code</th>\n",
       "    </tr>\n",
       "  </thead>\n",
       "  <tbody>\n",
       "    <tr>\n",
       "      <th>0</th>\n",
       "      <td>남성메이크업</td>\n",
       "      <td>0</td>\n",
       "    </tr>\n",
       "    <tr>\n",
       "      <th>1</th>\n",
       "      <td>로션</td>\n",
       "      <td>1</td>\n",
       "    </tr>\n",
       "    <tr>\n",
       "      <th>2</th>\n",
       "      <td>미스트&amp;오일</td>\n",
       "      <td>2</td>\n",
       "    </tr>\n",
       "    <tr>\n",
       "      <th>3</th>\n",
       "      <td>선크림</td>\n",
       "      <td>3</td>\n",
       "    </tr>\n",
       "    <tr>\n",
       "      <th>4</th>\n",
       "      <td>스킨토너</td>\n",
       "      <td>4</td>\n",
       "    </tr>\n",
       "    <tr>\n",
       "      <th>5</th>\n",
       "      <td>시트팩</td>\n",
       "      <td>5</td>\n",
       "    </tr>\n",
       "    <tr>\n",
       "      <th>6</th>\n",
       "      <td>에센스&amp;세럼&amp;앰플</td>\n",
       "      <td>6</td>\n",
       "    </tr>\n",
       "    <tr>\n",
       "      <th>7</th>\n",
       "      <td>크림</td>\n",
       "      <td>7</td>\n",
       "    </tr>\n",
       "    <tr>\n",
       "      <th>8</th>\n",
       "      <td>클렌징</td>\n",
       "      <td>8</td>\n",
       "    </tr>\n",
       "    <tr>\n",
       "      <th>9</th>\n",
       "      <td>패드</td>\n",
       "      <td>9</td>\n",
       "    </tr>\n",
       "  </tbody>\n",
       "</table>\n",
       "</div>"
      ],
      "text/plain": [
       "       label  code\n",
       "0     남성메이크업     0\n",
       "1         로션     1\n",
       "2     미스트&오일     2\n",
       "3        선크림     3\n",
       "4       스킨토너     4\n",
       "5        시트팩     5\n",
       "6  에센스&세럼&앰플     6\n",
       "7         크림     7\n",
       "8        클렌징     8\n",
       "9         패드     9"
      ]
     },
     "execution_count": 185,
     "metadata": {},
     "output_type": "execute_result"
    }
   ],
   "source": [
    "# 각 레이블 정보\n",
    "code_table = pd.DataFrame({'label': label_encoder.classes_,\n",
    "                           'code': range(len(label_encoder.classes_))})\n",
    "code_table"
   ]
  },
  {
   "cell_type": "markdown",
   "metadata": {
    "id": "GZP4GAr_lrQJ"
   },
   "source": [
    "표준화 -> StandardScaler를 사용하여 데이터프레임의 모든 수치형 피처를 표준화합니다. <br>\n",
    "-> k-평균 클러스터링 알고리즘은 숫자의 크기 그 자체에 가중치를 부여하는 경향이 있다. <br>\n",
    "-> k-평균 알고리즘은 유클리드 거리를 사용하여 데이터를 클러스터로 그룹화하기 때문에, 값이 큰 특성(피처)은 값이 작은 특성보다 클러스터링 결과에 더 큰 영향을 미칠 수 있다.<br>\n",
    "-> 이러한 이유로, 데이터를 클러스터링하기 전에 스케일링이 중요"
   ]
  },
  {
   "cell_type": "code",
   "execution_count": 186,
   "metadata": {
    "id": "PZ3N_swdlrQJ"
   },
   "outputs": [],
   "source": [
    "# 표준화 (StandardScaler)\n",
    "X_features = df_kmean[selected_col].values\n",
    "X_features_scaled = StandardScaler().fit_transform(X_features)"
   ]
  },
  {
   "cell_type": "code",
   "execution_count": 187,
   "metadata": {
    "colab": {
     "base_uri": "https://localhost:8080/"
    },
    "executionInfo": {
     "elapsed": 42,
     "status": "ok",
     "timestamp": 1739290303723,
     "user": {
      "displayName": "한서희",
      "userId": "01642867946124039843"
     },
     "user_tz": -540
    },
    "id": "WCTDb48klrQJ",
    "outputId": "cfe2cc8c-906b-4411-baba-ca712f8cc82e"
   },
   "outputs": [
    {
     "data": {
      "text/plain": [
       "array([[ 9.34930784e-01,  8.32315717e-01,  3.32334765e-02,\n",
       "        -1.74375309e+00],\n",
       "       [-5.65782988e-01,  8.32315717e-01, -2.61717204e-01,\n",
       "        -1.74375309e+00],\n",
       "       [ 4.35359844e-01,  8.32315717e-01,  1.09618140e-01,\n",
       "        -1.74375309e+00],\n",
       "       ...,\n",
       "       [ 1.34550106e-01, -4.14976711e-01, -2.47725953e-01,\n",
       "         1.54446702e+00],\n",
       "       [ 1.15332632e-03, -1.03862292e+00, -2.27306291e-01,\n",
       "         1.54446702e+00],\n",
       "       [ 9.34930784e-01,  2.08669503e-01,  1.69364560e-01,\n",
       "         1.54446702e+00]])"
      ]
     },
     "execution_count": 187,
     "metadata": {},
     "output_type": "execute_result"
    }
   ],
   "source": [
    "X_features_scaled"
   ]
  },
  {
   "cell_type": "code",
   "execution_count": 188,
   "metadata": {
    "id": "uGgr7Y8nlrQJ"
   },
   "outputs": [],
   "source": [
    "### 여러개의 클러스터링 갯수를 List로 입력 받아 각각의 실루엣 계수를 면적으로 시각화한 함수 작성\n",
    "def visualize_silhouette(cluster_lists, X_features):\n",
    "    from sklearn.cluster import KMeans\n",
    "    from sklearn.metrics import silhouette_samples, silhouette_score\n",
    "\n",
    "    import matplotlib.pyplot as plt\n",
    "    import matplotlib.cm as cm\n",
    "    import numpy as np\n",
    "    import math\n",
    "\n",
    "    n_clusters = len(cluster_lists)\n",
    "\n",
    "    n_cols = min(n_clusters, 5)\n",
    "    n_rows = math.ceil(n_clusters / n_cols)\n",
    "\n",
    "    fig, axs = plt.subplots(figsize=(4 * n_cols, 4 * n_rows), nrows=n_rows, ncols=n_cols)\n",
    "\n",
    "    axs = np.array(axs).reshape(-1) if n_clusters > 1 else [axs]\n",
    "\n",
    "    for ind, n_cluster in enumerate(cluster_lists):\n",
    "\n",
    "        clusterer = KMeans(n_clusters=n_cluster, max_iter=500, random_state=0)\n",
    "        cluster_labels = clusterer.fit_predict(X_features)\n",
    "\n",
    "        sil_avg = silhouette_score(X_features, cluster_labels)\n",
    "        sil_values = silhouette_samples(X_features, cluster_labels)\n",
    "\n",
    "        y_lower = 10\n",
    "        axs[ind].set_title(f'Number of Clusters: {n_cluster}\\nSilhouette Score: {round(sil_avg, 3)}')\n",
    "        axs[ind].set_xlabel(\"The silhouette coefficient values\")\n",
    "        axs[ind].set_ylabel(\"Cluster label\")\n",
    "        axs[ind].set_xlim([-0.1, 1])\n",
    "        axs[ind].set_ylim([0, len(X_features) + (n_cluster + 1) * 10])\n",
    "        axs[ind].set_yticks([])\n",
    "        axs[ind].set_xticks([0, 0.2, 0.4, 0.6, 0.8, 1])\n",
    "\n",
    "        for i in range(n_cluster):\n",
    "            ith_cluster_sil_values = sil_values[cluster_labels == i]\n",
    "            ith_cluster_sil_values.sort()\n",
    "\n",
    "            size_cluster_i = ith_cluster_sil_values.shape[0]\n",
    "            y_upper = y_lower + size_cluster_i\n",
    "\n",
    "            color = cm.nipy_spectral(float(i) / n_cluster)\n",
    "            axs[ind].fill_betweenx(np.arange(y_lower, y_upper), 0, ith_cluster_sil_values,\n",
    "                                   facecolor=color, edgecolor=color, alpha=0.7)\n",
    "            axs[ind].text(-0.05, y_lower + 0.5 * size_cluster_i, str(i))\n",
    "            y_lower = y_upper + 10\n",
    "\n",
    "        axs[ind].axvline(x=sil_avg, color=\"red\", linestyle=\"--\")\n",
    "\n",
    "    for ax in axs[n_clusters:]:\n",
    "        ax.axis('off')\n",
    "\n",
    "    plt.tight_layout()\n",
    "    plt.show()"
   ]
  },
  {
   "cell_type": "code",
   "execution_count": 189,
   "metadata": {
    "id": "_BuamRSWlrQJ"
   },
   "outputs": [],
   "source": [
    "def visualize_kmeans_plot_multi(cluster_lists, X_features):\n",
    "    from sklearn.cluster import KMeans\n",
    "    from sklearn.decomposition import PCA\n",
    "    import pandas as pd\n",
    "    import numpy as np\n",
    "    import matplotlib.pyplot as plt\n",
    "    import math\n",
    "\n",
    "    n_clusters = len(cluster_lists)\n",
    "    n_cols = min(n_clusters, 5)\n",
    "    n_rows = math.ceil(n_clusters / n_cols)\n",
    "\n",
    "    fig, axs = plt.subplots(figsize=(4 * n_cols, 4 * n_rows), nrows=n_rows, ncols=n_cols)\n",
    "\n",
    "    axs = np.array(axs).reshape(-1) if n_clusters > 1 else [axs]\n",
    "\n",
    "    pca = PCA(n_components=2)\n",
    "    pca_transformed = pca.fit_transform(X_features)\n",
    "    dataframe = pd.DataFrame(pca_transformed, columns=['PCA1', 'PCA2'])\n",
    "\n",
    "    for ind, n_cluster in enumerate(cluster_lists):\n",
    "\n",
    "        clusterer = KMeans(n_clusters=n_cluster, max_iter=500, random_state=0)\n",
    "        cluster_labels = clusterer.fit_predict(pca_transformed)\n",
    "        dataframe['cluster'] = cluster_labels\n",
    "\n",
    "        unique_labels = np.unique(cluster_labels)\n",
    "        markers = ['o', 's', '^', 'x', '*', 'D', 'v', 'p', 'H', '+']\n",
    "\n",
    "        for label in unique_labels:\n",
    "            label_df = dataframe[dataframe['cluster'] == label]\n",
    "            cluster_legend = f'Cluster {label}' if label != -1 else 'Noise'\n",
    "            axs[ind].scatter(x=label_df['PCA1'], y=label_df['PCA2'], s=70,\n",
    "                             edgecolor='k', marker=markers[label % len(markers)], label=cluster_legend)\n",
    "\n",
    "        axs[ind].set_title(f'Number of Clusters: {n_cluster}')\n",
    "        axs[ind].legend(loc='upper right')\n",
    "\n",
    "    for ax in axs[n_clusters:]:\n",
    "        ax.axis('off')\n",
    "\n",
    "    plt.tight_layout()\n",
    "    plt.show()"
   ]
  },
  {
   "cell_type": "code",
   "execution_count": 190,
   "metadata": {
    "colab": {
     "base_uri": "https://localhost:8080/",
     "height": 149
    },
    "executionInfo": {
     "elapsed": 2741,
     "status": "ok",
     "timestamp": 1739290312788,
     "user": {
      "displayName": "한서희",
      "userId": "01642867946124039843"
     },
     "user_tz": -540
    },
    "id": "18n4W_EIlrQJ",
    "outputId": "b23f3fa9-728b-446e-dcd2-b78d84a39e3c"
   },
   "outputs": [
    {
     "data": {
      "image/png": "[encoded data removed]",
      "text/plain": [
       "<Figure size 2000x400 with 5 Axes>"
      ]
     },
     "metadata": {},
     "output_type": "display_data"
    }
   ],
   "source": [
    "visualize_silhouette([3,4,5,6,7], X_features_scaled)"
   ]
  },
  {
   "cell_type": "code",
   "execution_count": 191,
   "metadata": {
    "colab": {
     "base_uri": "https://localhost:8080/",
     "height": 315
    },
    "executionInfo": {
     "elapsed": 1224,
     "status": "ok",
     "timestamp": 1739290320042,
     "user": {
      "displayName": "한서희",
      "userId": "01642867946124039843"
     },
     "user_tz": -540
    },
    "id": "soBDew1ulrQJ",
    "outputId": "430d93fe-3587-4574-9956-6c40e01f07fe"
   },
   "outputs": [
    {
     "name": "stderr",
     "output_type": "stream",
     "text": [
      "C:\\Users\\박명화\\AppData\\Local\\Temp\\ipykernel_7444\\3892084.py:33: UserWarning: You passed a edgecolor/edgecolors ('k') for an unfilled marker ('x').  Matplotlib is ignoring the edgecolor in favor of the facecolor.  This behavior may change in the future.\n",
      "  axs[ind].scatter(x=label_df['PCA1'], y=label_df['PCA2'], s=70,\n",
      "C:\\Users\\박명화\\AppData\\Local\\Temp\\ipykernel_7444\\3892084.py:33: UserWarning: You passed a edgecolor/edgecolors ('k') for an unfilled marker ('x').  Matplotlib is ignoring the edgecolor in favor of the facecolor.  This behavior may change in the future.\n",
      "  axs[ind].scatter(x=label_df['PCA1'], y=label_df['PCA2'], s=70,\n",
      "C:\\Users\\박명화\\AppData\\Local\\Temp\\ipykernel_7444\\3892084.py:33: UserWarning: You passed a edgecolor/edgecolors ('k') for an unfilled marker ('x').  Matplotlib is ignoring the edgecolor in favor of the facecolor.  This behavior may change in the future.\n",
      "  axs[ind].scatter(x=label_df['PCA1'], y=label_df['PCA2'], s=70,\n",
      "C:\\Users\\박명화\\AppData\\Local\\Temp\\ipykernel_7444\\3892084.py:33: UserWarning: You passed a edgecolor/edgecolors ('k') for an unfilled marker ('x').  Matplotlib is ignoring the edgecolor in favor of the facecolor.  This behavior may change in the future.\n",
      "  axs[ind].scatter(x=label_df['PCA1'], y=label_df['PCA2'], s=70,\n"
     ]
    },
    {
     "data": {
      "image/png": "[encoded data removed]",
      "text/plain": [
       "<Figure size 2000x400 with 5 Axes>"
      ]
     },
     "metadata": {},
     "output_type": "display_data"
    }
   ],
   "source": [
    "visualize_kmeans_plot_multi([3,4,5,6,7], X_features_scaled)"
   ]
  },
  {
   "cell_type": "markdown",
   "metadata": {
    "id": "fOwqIwCTlrQJ"
   },
   "source": [
    "### 로그 스케일\n",
    "가격과 총 리뷰 수에 로그스케일을 적용한다."
   ]
  },
  {
   "cell_type": "code",
   "execution_count": 192,
   "metadata": {
    "colab": {
     "base_uri": "https://localhost:8080/"
    },
    "executionInfo": {
     "elapsed": 46,
     "status": "ok",
     "timestamp": 1739290326912,
     "user": {
      "displayName": "한서희",
      "userId": "01642867946124039843"
     },
     "user_tz": -540
    },
    "id": "LxqRnkrnlrQJ",
    "outputId": "8158e33c-b358-4ee7-f493-9ed5140854ca"
   },
   "outputs": [
    {
     "data": {
      "text/plain": [
       "np.float64(0.2663875212657356)"
      ]
     },
     "execution_count": 192,
     "metadata": {},
     "output_type": "execute_result"
    }
   ],
   "source": [
    "### Log 변환을 통해 데이터 변환\n",
    "\n",
    "# Price, Review Count 컬럼에 np.log1p() 로 Log Transformation\n",
    "df_kmean['가격_log'] = np.log1p(df_kmean['가격'])\n",
    "df_kmean['총 리뷰 수_log'] = np.log1p(df_kmean['총 리뷰 수'])\n",
    "\n",
    "# Log Transformation 데이터에 StandardScaler 적용\n",
    "X_features = df_kmean[['가격_log','총평점','총 리뷰 수_log','카테고리']].values\n",
    "X_features_scaled = StandardScaler().fit_transform(X_features)\n",
    "\n",
    "# Kmean알고리즘 설정 및 예측\n",
    "kmean = KMeans(n_clusters=5, random_state=0)\n",
    "labels = kmean.fit_predict(X_features_scaled)\n",
    "\n",
    "# 결과 label추가\n",
    "df_kmean['cluster'] = labels\n",
    "\n",
    "# 실루엣스코어 계산\n",
    "silhouette_score(X_features_scaled, labels)"
   ]
  },
  {
   "cell_type": "code",
   "execution_count": 193,
   "metadata": {
    "colab": {
     "base_uri": "https://localhost:8080/",
     "height": 447
    },
    "executionInfo": {
     "elapsed": 4417,
     "status": "ok",
     "timestamp": 1739290333194,
     "user": {
      "displayName": "한서희",
      "userId": "01642867946124039843"
     },
     "user_tz": -540
    },
    "id": "FAGE7UBMlrQK",
    "outputId": "041be6dd-8329-4c89-f682-8c71b0a3a798"
   },
   "outputs": [
    {
     "data": {
      "image/png": "[encoded data removed]",
      "text/plain": [
       "<Figure size 2000x400 with 5 Axes>"
      ]
     },
     "metadata": {},
     "output_type": "display_data"
    },
    {
     "name": "stderr",
     "output_type": "stream",
     "text": [
      "C:\\Users\\박명화\\AppData\\Local\\Temp\\ipykernel_7444\\3892084.py:33: UserWarning: You passed a edgecolor/edgecolors ('k') for an unfilled marker ('x').  Matplotlib is ignoring the edgecolor in favor of the facecolor.  This behavior may change in the future.\n",
      "  axs[ind].scatter(x=label_df['PCA1'], y=label_df['PCA2'], s=70,\n",
      "C:\\Users\\박명화\\AppData\\Local\\Temp\\ipykernel_7444\\3892084.py:33: UserWarning: You passed a edgecolor/edgecolors ('k') for an unfilled marker ('x').  Matplotlib is ignoring the edgecolor in favor of the facecolor.  This behavior may change in the future.\n",
      "  axs[ind].scatter(x=label_df['PCA1'], y=label_df['PCA2'], s=70,\n",
      "C:\\Users\\박명화\\AppData\\Local\\Temp\\ipykernel_7444\\3892084.py:33: UserWarning: You passed a edgecolor/edgecolors ('k') for an unfilled marker ('x').  Matplotlib is ignoring the edgecolor in favor of the facecolor.  This behavior may change in the future.\n",
      "  axs[ind].scatter(x=label_df['PCA1'], y=label_df['PCA2'], s=70,\n",
      "C:\\Users\\박명화\\AppData\\Local\\Temp\\ipykernel_7444\\3892084.py:33: UserWarning: You passed a edgecolor/edgecolors ('k') for an unfilled marker ('x').  Matplotlib is ignoring the edgecolor in favor of the facecolor.  This behavior may change in the future.\n",
      "  axs[ind].scatter(x=label_df['PCA1'], y=label_df['PCA2'], s=70,\n"
     ]
    },
    {
     "data": {
      "image/png": "[encoded data removed]",
      "text/plain": [
       "<Figure size 2000x400 with 5 Axes>"
      ]
     },
     "metadata": {},
     "output_type": "display_data"
    }
   ],
   "source": [
    "visualize_silhouette([3,4,5,6,7], X_features_scaled)\n",
    "visualize_kmeans_plot_multi([3,4,5,6,7], X_features_scaled)"
   ]
  },
  {
   "cell_type": "code",
   "execution_count": 194,
   "metadata": {
    "colab": {
     "base_uri": "https://localhost:8080/"
    },
    "executionInfo": {
     "elapsed": 44,
     "status": "ok",
     "timestamp": 1739290334733,
     "user": {
      "displayName": "한서희",
      "userId": "01642867946124039843"
     },
     "user_tz": -540
    },
    "id": "gylssf8RlrQK",
    "outputId": "6d37ae9a-c4bc-4c30-83f5-59709c7d56dc"
   },
   "outputs": [
    {
     "name": "stdout",
     "output_type": "stream",
     "text": [
      "<class 'pandas.core.frame.DataFrame'>\n",
      "RangeIndex: 3168 entries, 0 to 3167\n",
      "Data columns (total 9 columns):\n",
      " #   Column      Non-Null Count  Dtype  \n",
      "---  ------      --------------  -----  \n",
      " 0   카테고리        3168 non-null   int64  \n",
      " 1   브랜드         3168 non-null   object \n",
      " 2   제품명         3168 non-null   object \n",
      " 3   가격          3168 non-null   int64  \n",
      " 4   총평점         3168 non-null   float64\n",
      " 5   총 리뷰 수      3168 non-null   int64  \n",
      " 6   가격_log      3168 non-null   float64\n",
      " 7   총 리뷰 수_log  3168 non-null   float64\n",
      " 8   cluster     3168 non-null   int32  \n",
      "dtypes: float64(3), int32(1), int64(3), object(2)\n",
      "memory usage: 210.5+ KB\n"
     ]
    }
   ],
   "source": [
    "df_kmean.info()"
   ]
  },
  {
   "cell_type": "code",
   "execution_count": 195,
   "metadata": {
    "colab": {
     "base_uri": "https://localhost:8080/",
     "height": 423
    },
    "executionInfo": {
     "elapsed": 60,
     "status": "ok",
     "timestamp": 1739290336946,
     "user": {
      "displayName": "한서희",
      "userId": "01642867946124039843"
     },
     "user_tz": -540
    },
    "id": "2GEd0zWulrQK",
    "outputId": "66eda770-2d26-44d0-8c6a-8a2e772b85b3"
   },
   "outputs": [
    {
     "data": {
      "text/html": [
       "<div>\n",
       "<style scoped>\n",
       "    .dataframe tbody tr th:only-of-type {\n",
       "        vertical-align: middle;\n",
       "    }\n",
       "\n",
       "    .dataframe tbody tr th {\n",
       "        vertical-align: top;\n",
       "    }\n",
       "\n",
       "    .dataframe thead th {\n",
       "        text-align: right;\n",
       "    }\n",
       "</style>\n",
       "<table border=\"1\" class=\"dataframe\">\n",
       "  <thead>\n",
       "    <tr style=\"text-align: right;\">\n",
       "      <th></th>\n",
       "      <th>label</th>\n",
       "      <th>code</th>\n",
       "    </tr>\n",
       "  </thead>\n",
       "  <tbody>\n",
       "    <tr>\n",
       "      <th>0</th>\n",
       "      <td>남성메이크업</td>\n",
       "      <td>0</td>\n",
       "    </tr>\n",
       "    <tr>\n",
       "      <th>1</th>\n",
       "      <td>로션</td>\n",
       "      <td>1</td>\n",
       "    </tr>\n",
       "    <tr>\n",
       "      <th>2</th>\n",
       "      <td>미스트&amp;오일</td>\n",
       "      <td>2</td>\n",
       "    </tr>\n",
       "    <tr>\n",
       "      <th>3</th>\n",
       "      <td>선크림</td>\n",
       "      <td>3</td>\n",
       "    </tr>\n",
       "    <tr>\n",
       "      <th>4</th>\n",
       "      <td>스킨토너</td>\n",
       "      <td>4</td>\n",
       "    </tr>\n",
       "    <tr>\n",
       "      <th>5</th>\n",
       "      <td>시트팩</td>\n",
       "      <td>5</td>\n",
       "    </tr>\n",
       "    <tr>\n",
       "      <th>6</th>\n",
       "      <td>에센스&amp;세럼&amp;앰플</td>\n",
       "      <td>6</td>\n",
       "    </tr>\n",
       "    <tr>\n",
       "      <th>7</th>\n",
       "      <td>크림</td>\n",
       "      <td>7</td>\n",
       "    </tr>\n",
       "    <tr>\n",
       "      <th>8</th>\n",
       "      <td>클렌징</td>\n",
       "      <td>8</td>\n",
       "    </tr>\n",
       "    <tr>\n",
       "      <th>9</th>\n",
       "      <td>패드</td>\n",
       "      <td>9</td>\n",
       "    </tr>\n",
       "  </tbody>\n",
       "</table>\n",
       "</div>"
      ],
      "text/plain": [
       "       label  code\n",
       "0     남성메이크업     0\n",
       "1         로션     1\n",
       "2     미스트&오일     2\n",
       "3        선크림     3\n",
       "4       스킨토너     4\n",
       "5        시트팩     5\n",
       "6  에센스&세럼&앰플     6\n",
       "7         크림     7\n",
       "8        클렌징     8\n",
       "9         패드     9"
      ]
     },
     "execution_count": 195,
     "metadata": {},
     "output_type": "execute_result"
    }
   ],
   "source": [
    "code_table"
   ]
  },
  {
   "cell_type": "code",
   "execution_count": 198,
   "metadata": {},
   "outputs": [
    {
     "data": {
      "text/html": [
       "<div>\n",
       "<style scoped>\n",
       "    .dataframe tbody tr th:only-of-type {\n",
       "        vertical-align: middle;\n",
       "    }\n",
       "\n",
       "    .dataframe tbody tr th {\n",
       "        vertical-align: top;\n",
       "    }\n",
       "\n",
       "    .dataframe thead th {\n",
       "        text-align: right;\n",
       "    }\n",
       "</style>\n",
       "<table border=\"1\" class=\"dataframe\">\n",
       "  <thead>\n",
       "    <tr style=\"text-align: right;\">\n",
       "      <th></th>\n",
       "      <th>카테고리</th>\n",
       "      <th>브랜드</th>\n",
       "      <th>제품명</th>\n",
       "      <th>가격</th>\n",
       "      <th>총평점</th>\n",
       "      <th>총 리뷰 수</th>\n",
       "      <th>가격_log</th>\n",
       "      <th>총 리뷰 수_log</th>\n",
       "      <th>cluster</th>\n",
       "    </tr>\n",
       "  </thead>\n",
       "  <tbody>\n",
       "    <tr>\n",
       "      <th>0</th>\n",
       "      <td>1</td>\n",
       "      <td>에스트라</td>\n",
       "      <td>에스트라 아토베리어365 로션 150ml 리필 기획</td>\n",
       "      <td>38000</td>\n",
       "      <td>4.9</td>\n",
       "      <td>2494</td>\n",
       "      <td>10.545368</td>\n",
       "      <td>7.822044</td>\n",
       "      <td>2</td>\n",
       "    </tr>\n",
       "    <tr>\n",
       "      <th>1</th>\n",
       "      <td>1</td>\n",
       "      <td>포엘리에</td>\n",
       "      <td>포엘리에 옴므 5 IN 1 미백 주름 기능성 올인원 남자 로션 150ml</td>\n",
       "      <td>15500</td>\n",
       "      <td>4.9</td>\n",
       "      <td>154</td>\n",
       "      <td>9.648660</td>\n",
       "      <td>5.043425</td>\n",
       "      <td>2</td>\n",
       "    </tr>\n",
       "    <tr>\n",
       "      <th>2</th>\n",
       "      <td>1</td>\n",
       "      <td>온그리디언츠</td>\n",
       "      <td>온그리디언츠 스킨 베리어 카밍 로션 기획</td>\n",
       "      <td>30510</td>\n",
       "      <td>4.9</td>\n",
       "      <td>3100</td>\n",
       "      <td>10.325843</td>\n",
       "      <td>8.039480</td>\n",
       "      <td>2</td>\n",
       "    </tr>\n",
       "    <tr>\n",
       "      <th>3</th>\n",
       "      <td>1</td>\n",
       "      <td>아이디얼포맨</td>\n",
       "      <td>아이디얼포맨 퍼펙트 올인원 토트넘 홋스퍼 에디션</td>\n",
       "      <td>28310</td>\n",
       "      <td>4.9</td>\n",
       "      <td>3810</td>\n",
       "      <td>10.251006</td>\n",
       "      <td>8.245647</td>\n",
       "      <td>2</td>\n",
       "    </tr>\n",
       "    <tr>\n",
       "      <th>4</th>\n",
       "      <td>1</td>\n",
       "      <td>아이디얼포맨</td>\n",
       "      <td>아이디얼포맨 올인원 토트넘 홋스퍼 에디션 2종</td>\n",
       "      <td>28310</td>\n",
       "      <td>4.9</td>\n",
       "      <td>4408</td>\n",
       "      <td>10.251006</td>\n",
       "      <td>8.391403</td>\n",
       "      <td>2</td>\n",
       "    </tr>\n",
       "    <tr>\n",
       "      <th>...</th>\n",
       "      <td>...</td>\n",
       "      <td>...</td>\n",
       "      <td>...</td>\n",
       "      <td>...</td>\n",
       "      <td>...</td>\n",
       "      <td>...</td>\n",
       "      <td>...</td>\n",
       "      <td>...</td>\n",
       "      <td>...</td>\n",
       "    </tr>\n",
       "    <tr>\n",
       "      <th>3163</th>\n",
       "      <td>9</td>\n",
       "      <td>헤이네이처</td>\n",
       "      <td>헤이네이처 어성초 카밍 토너 패드 65매</td>\n",
       "      <td>30000</td>\n",
       "      <td>4.9</td>\n",
       "      <td>78</td>\n",
       "      <td>10.308986</td>\n",
       "      <td>4.369448</td>\n",
       "      <td>4</td>\n",
       "    </tr>\n",
       "    <tr>\n",
       "      <th>3164</th>\n",
       "      <td>9</td>\n",
       "      <td>멘톨로지</td>\n",
       "      <td>멘톨로지 슈퍼쿨 카밍패드 70매</td>\n",
       "      <td>22000</td>\n",
       "      <td>4.7</td>\n",
       "      <td>7</td>\n",
       "      <td>9.998843</td>\n",
       "      <td>2.079442</td>\n",
       "      <td>4</td>\n",
       "    </tr>\n",
       "    <tr>\n",
       "      <th>3165</th>\n",
       "      <td>9</td>\n",
       "      <td>메디앤서</td>\n",
       "      <td>메디앤서 비타 콜라겐 글로우 패드 기획 80매 기획</td>\n",
       "      <td>26000</td>\n",
       "      <td>4.7</td>\n",
       "      <td>265</td>\n",
       "      <td>10.165890</td>\n",
       "      <td>5.583496</td>\n",
       "      <td>0</td>\n",
       "    </tr>\n",
       "    <tr>\n",
       "      <th>3166</th>\n",
       "      <td>9</td>\n",
       "      <td>아비브</td>\n",
       "      <td>아비브 부활초 콜라겐 패드 퍼밍 터치 60매 기획</td>\n",
       "      <td>24000</td>\n",
       "      <td>4.6</td>\n",
       "      <td>427</td>\n",
       "      <td>10.085851</td>\n",
       "      <td>6.059123</td>\n",
       "      <td>0</td>\n",
       "    </tr>\n",
       "    <tr>\n",
       "      <th>3167</th>\n",
       "      <td>9</td>\n",
       "      <td>구달</td>\n",
       "      <td>구달 청귤 비타C 잡티케어 패드 콜라보기획</td>\n",
       "      <td>38000</td>\n",
       "      <td>4.8</td>\n",
       "      <td>3574</td>\n",
       "      <td>10.545368</td>\n",
       "      <td>8.181720</td>\n",
       "      <td>0</td>\n",
       "    </tr>\n",
       "  </tbody>\n",
       "</table>\n",
       "<p>3168 rows × 9 columns</p>\n",
       "</div>"
      ],
      "text/plain": [
       "      카테고리     브랜드                                       제품명     가격  총평점  \\\n",
       "0        1    에스트라              에스트라 아토베리어365 로션 150ml 리필 기획  38000  4.9   \n",
       "1        1    포엘리에  포엘리에 옴므 5 IN 1 미백 주름 기능성 올인원 남자 로션 150ml  15500  4.9   \n",
       "2        1  온그리디언츠                    온그리디언츠 스킨 베리어 카밍 로션 기획  30510  4.9   \n",
       "3        1  아이디얼포맨                아이디얼포맨 퍼펙트 올인원 토트넘 홋스퍼 에디션  28310  4.9   \n",
       "4        1  아이디얼포맨                 아이디얼포맨 올인원 토트넘 홋스퍼 에디션 2종  28310  4.9   \n",
       "...    ...     ...                                       ...    ...  ...   \n",
       "3163     9   헤이네이처                    헤이네이처 어성초 카밍 토너 패드 65매  30000  4.9   \n",
       "3164     9    멘톨로지                         멘톨로지 슈퍼쿨 카밍패드 70매  22000  4.7   \n",
       "3165     9    메디앤서              메디앤서 비타 콜라겐 글로우 패드 기획 80매 기획  26000  4.7   \n",
       "3166     9     아비브               아비브 부활초 콜라겐 패드 퍼밍 터치 60매 기획  24000  4.6   \n",
       "3167     9      구달                   구달 청귤 비타C 잡티케어 패드 콜라보기획  38000  4.8   \n",
       "\n",
       "      총 리뷰 수     가격_log  총 리뷰 수_log  cluster  \n",
       "0       2494  10.545368    7.822044        2  \n",
       "1        154   9.648660    5.043425        2  \n",
       "2       3100  10.325843    8.039480        2  \n",
       "3       3810  10.251006    8.245647        2  \n",
       "4       4408  10.251006    8.391403        2  \n",
       "...      ...        ...         ...      ...  \n",
       "3163      78  10.308986    4.369448        4  \n",
       "3164       7   9.998843    2.079442        4  \n",
       "3165     265  10.165890    5.583496        0  \n",
       "3166     427  10.085851    6.059123        0  \n",
       "3167    3574  10.545368    8.181720        0  \n",
       "\n",
       "[3168 rows x 9 columns]"
      ]
     },
     "execution_count": 198,
     "metadata": {},
     "output_type": "execute_result"
    }
   ],
   "source": [
    "df_kmean"
   ]
  },
  {
   "cell_type": "code",
   "execution_count": 199,
   "metadata": {},
   "outputs": [],
   "source": [
    "cluster_1 = df_kmean[df_kmean['cluster']== 1]"
   ]
  },
  {
   "cell_type": "markdown",
   "metadata": {},
   "source": [
    "카테고리 확인결과, cluster1군만 202개의 '시트팩', 13개의 '클렌징'으로 두드러지게 차이가 나 cluster1만 분석진행"
   ]
  },
  {
   "cell_type": "code",
   "execution_count": 200,
   "metadata": {},
   "outputs": [],
   "source": [
    "import matplotlib.font_manager as fm\n",
    "\n",
    "import matplotlib.pyplot as plt\n",
    "\n",
    "# Pretendard-Regular 폰트 경로\n",
    "font_path = r\"C:\\Users\\박명화\\Downloads\\Pretendard-1.3.9\\public\\static\\alternative\\Pretendard-Regular.ttf\"\n",
    "\n",
    "# 폰트 로드\n",
    "pretendard_font = fm.FontProperties(fname=font_path)\n",
    "\n",
    "# matplotlib에 폰트 적용\n",
    "plt.rcParams['font.family'] = pretendard_font.get_name()\n",
    "\n",
    "# 유니코드 마이너스 기호 깨짐 방지\n",
    "plt.rcParams['axes.unicode_minus'] = False\n",
    "\n",
    "import matplotlib.ticker as mtick"
   ]
  },
  {
   "cell_type": "markdown",
   "metadata": {},
   "source": [
    "- cluster의 90%는 시트팩 제품으로 시트팩의 EDA분석에서는 가격이 높을수록 리뷰수가 감소하여 소비자들이 가격에 민감하게 반응하는 제품으로 확인됨. "
   ]
  },
  {
   "cell_type": "markdown",
   "metadata": {},
   "source": [
    "### 5.2  Cluster1 분석"
   ]
  },
  {
   "cell_type": "markdown",
   "metadata": {},
   "source": [
    "정제"
   ]
  },
  {
   "cell_type": "code",
   "execution_count": 202,
   "metadata": {},
   "outputs": [
    {
     "data": {
      "text/plain": [
       "카테고리\n",
       "5    202\n",
       "8     13\n",
       "6      3\n",
       "9      2\n",
       "3      1\n",
       "1      1\n",
       "2      1\n",
       "Name: count, dtype: int64"
      ]
     },
     "execution_count": 202,
     "metadata": {},
     "output_type": "execute_result"
    }
   ],
   "source": [
    "cluster_1['카테고리'].value_counts()"
   ]
  },
  {
   "cell_type": "code",
   "execution_count": 151,
   "metadata": {},
   "outputs": [
    {
     "data": {
      "text/html": [
       "<div>\n",
       "<style scoped>\n",
       "    .dataframe tbody tr th:only-of-type {\n",
       "        vertical-align: middle;\n",
       "    }\n",
       "\n",
       "    .dataframe tbody tr th {\n",
       "        vertical-align: top;\n",
       "    }\n",
       "\n",
       "    .dataframe thead th {\n",
       "        text-align: right;\n",
       "    }\n",
       "</style>\n",
       "<table border=\"1\" class=\"dataframe\">\n",
       "  <thead>\n",
       "    <tr style=\"text-align: right;\">\n",
       "      <th></th>\n",
       "      <th>카테고리</th>\n",
       "      <th>가격</th>\n",
       "      <th>총평점</th>\n",
       "      <th>총 리뷰 수</th>\n",
       "      <th>cluster</th>\n",
       "      <th>카테고리명</th>\n",
       "    </tr>\n",
       "  </thead>\n",
       "  <tbody>\n",
       "    <tr>\n",
       "      <th>231</th>\n",
       "      <td>1</td>\n",
       "      <td>990</td>\n",
       "      <td>4.6</td>\n",
       "      <td>71</td>\n",
       "      <td>1</td>\n",
       "      <td>로션</td>\n",
       "    </tr>\n",
       "    <tr>\n",
       "      <th>381</th>\n",
       "      <td>2</td>\n",
       "      <td>5600</td>\n",
       "      <td>4.7</td>\n",
       "      <td>487</td>\n",
       "      <td>1</td>\n",
       "      <td>미스트&amp;오일</td>\n",
       "    </tr>\n",
       "    <tr>\n",
       "      <th>798</th>\n",
       "      <td>3</td>\n",
       "      <td>990</td>\n",
       "      <td>4.8</td>\n",
       "      <td>8</td>\n",
       "      <td>1</td>\n",
       "      <td>선크림</td>\n",
       "    </tr>\n",
       "    <tr>\n",
       "      <th>1142</th>\n",
       "      <td>5</td>\n",
       "      <td>1000</td>\n",
       "      <td>4.9</td>\n",
       "      <td>224262</td>\n",
       "      <td>1</td>\n",
       "      <td>시트팩</td>\n",
       "    </tr>\n",
       "    <tr>\n",
       "      <th>1158</th>\n",
       "      <td>5</td>\n",
       "      <td>2000</td>\n",
       "      <td>5.0</td>\n",
       "      <td>237</td>\n",
       "      <td>1</td>\n",
       "      <td>시트팩</td>\n",
       "    </tr>\n",
       "    <tr>\n",
       "      <th>...</th>\n",
       "      <td>...</td>\n",
       "      <td>...</td>\n",
       "      <td>...</td>\n",
       "      <td>...</td>\n",
       "      <td>...</td>\n",
       "      <td>...</td>\n",
       "    </tr>\n",
       "    <tr>\n",
       "      <th>2889</th>\n",
       "      <td>8</td>\n",
       "      <td>2000</td>\n",
       "      <td>4.7</td>\n",
       "      <td>3271</td>\n",
       "      <td>1</td>\n",
       "      <td>클렌징</td>\n",
       "    </tr>\n",
       "    <tr>\n",
       "      <th>2919</th>\n",
       "      <td>8</td>\n",
       "      <td>5900</td>\n",
       "      <td>4.6</td>\n",
       "      <td>852</td>\n",
       "      <td>1</td>\n",
       "      <td>클렌징</td>\n",
       "    </tr>\n",
       "    <tr>\n",
       "      <th>2938</th>\n",
       "      <td>8</td>\n",
       "      <td>5100</td>\n",
       "      <td>4.7</td>\n",
       "      <td>3901</td>\n",
       "      <td>1</td>\n",
       "      <td>클렌징</td>\n",
       "    </tr>\n",
       "    <tr>\n",
       "      <th>3038</th>\n",
       "      <td>9</td>\n",
       "      <td>3900</td>\n",
       "      <td>4.6</td>\n",
       "      <td>2129</td>\n",
       "      <td>1</td>\n",
       "      <td>패드</td>\n",
       "    </tr>\n",
       "    <tr>\n",
       "      <th>3122</th>\n",
       "      <td>9</td>\n",
       "      <td>4050</td>\n",
       "      <td>5.0</td>\n",
       "      <td>90</td>\n",
       "      <td>1</td>\n",
       "      <td>패드</td>\n",
       "    </tr>\n",
       "  </tbody>\n",
       "</table>\n",
       "<p>223 rows × 6 columns</p>\n",
       "</div>"
      ],
      "text/plain": [
       "      카테고리    가격  총평점  총 리뷰 수  cluster   카테고리명\n",
       "231      1   990  4.6      71        1      로션\n",
       "381      2  5600  4.7     487        1  미스트&오일\n",
       "798      3   990  4.8       8        1     선크림\n",
       "1142     5  1000  4.9  224262        1     시트팩\n",
       "1158     5  2000  5.0     237        1     시트팩\n",
       "...    ...   ...  ...     ...      ...     ...\n",
       "2889     8  2000  4.7    3271        1     클렌징\n",
       "2919     8  5900  4.6     852        1     클렌징\n",
       "2938     8  5100  4.7    3901        1     클렌징\n",
       "3038     9  3900  4.6    2129        1      패드\n",
       "3122     9  4050  5.0      90        1      패드\n",
       "\n",
       "[223 rows x 6 columns]"
      ]
     },
     "execution_count": 151,
     "metadata": {},
     "output_type": "execute_result"
    }
   ],
   "source": [
    "cluster_1"
   ]
  },
  {
   "cell_type": "code",
   "execution_count": 152,
   "metadata": {},
   "outputs": [
    {
     "name": "stderr",
     "output_type": "stream",
     "text": [
      "C:\\Users\\박명화\\AppData\\Local\\Temp\\ipykernel_7444\\3191772814.py:1: SettingWithCopyWarning: \n",
      "A value is trying to be set on a copy of a slice from a DataFrame.\n",
      "Try using .loc[row_indexer,col_indexer] = value instead\n",
      "\n",
      "See the caveats in the documentation: https://pandas.pydata.org/pandas-docs/stable/user_guide/indexing.html#returning-a-view-versus-a-copy\n",
      "  cluster_1[\"제품명\"] = 제품.loc[cluster_1.index, \"제품명\"]\n"
     ]
    },
    {
     "data": {
      "text/html": [
       "<div>\n",
       "<style scoped>\n",
       "    .dataframe tbody tr th:only-of-type {\n",
       "        vertical-align: middle;\n",
       "    }\n",
       "\n",
       "    .dataframe tbody tr th {\n",
       "        vertical-align: top;\n",
       "    }\n",
       "\n",
       "    .dataframe thead th {\n",
       "        text-align: right;\n",
       "    }\n",
       "</style>\n",
       "<table border=\"1\" class=\"dataframe\">\n",
       "  <thead>\n",
       "    <tr style=\"text-align: right;\">\n",
       "      <th></th>\n",
       "      <th>카테고리</th>\n",
       "      <th>가격</th>\n",
       "      <th>총평점</th>\n",
       "      <th>총 리뷰 수</th>\n",
       "      <th>cluster</th>\n",
       "      <th>카테고리명</th>\n",
       "      <th>제품명</th>\n",
       "    </tr>\n",
       "  </thead>\n",
       "  <tbody>\n",
       "    <tr>\n",
       "      <th>231</th>\n",
       "      <td>1</td>\n",
       "      <td>990</td>\n",
       "      <td>4.6</td>\n",
       "      <td>71</td>\n",
       "      <td>1</td>\n",
       "      <td>로션</td>\n",
       "      <td>엠도씨 안티 링클 스킨 플러스 로션 150ml 기획</td>\n",
       "    </tr>\n",
       "    <tr>\n",
       "      <th>381</th>\n",
       "      <td>2</td>\n",
       "      <td>5600</td>\n",
       "      <td>4.7</td>\n",
       "      <td>487</td>\n",
       "      <td>1</td>\n",
       "      <td>미스트&amp;오일</td>\n",
       "      <td>에비앙 브뤼미자뙤르 페이셜미스트 50ml</td>\n",
       "    </tr>\n",
       "    <tr>\n",
       "      <th>798</th>\n",
       "      <td>3</td>\n",
       "      <td>990</td>\n",
       "      <td>4.8</td>\n",
       "      <td>8</td>\n",
       "      <td>1</td>\n",
       "      <td>선크림</td>\n",
       "      <td>엠도씨 선 스킨 플러스 크림 100ml 기획</td>\n",
       "    </tr>\n",
       "    <tr>\n",
       "      <th>1142</th>\n",
       "      <td>5</td>\n",
       "      <td>1000</td>\n",
       "      <td>4.9</td>\n",
       "      <td>224262</td>\n",
       "      <td>1</td>\n",
       "      <td>시트팩</td>\n",
       "      <td>메디힐 에센셜 마스크팩 1매 고기능 7종 택1</td>\n",
       "    </tr>\n",
       "    <tr>\n",
       "      <th>1158</th>\n",
       "      <td>5</td>\n",
       "      <td>2000</td>\n",
       "      <td>5.0</td>\n",
       "      <td>237</td>\n",
       "      <td>1</td>\n",
       "      <td>시트팩</td>\n",
       "      <td>바이오힐보 세라뮨 하이드레이팅 크림 마스크 1매</td>\n",
       "    </tr>\n",
       "    <tr>\n",
       "      <th>...</th>\n",
       "      <td>...</td>\n",
       "      <td>...</td>\n",
       "      <td>...</td>\n",
       "      <td>...</td>\n",
       "      <td>...</td>\n",
       "      <td>...</td>\n",
       "      <td>...</td>\n",
       "    </tr>\n",
       "    <tr>\n",
       "      <th>2889</th>\n",
       "      <td>8</td>\n",
       "      <td>2000</td>\n",
       "      <td>4.7</td>\n",
       "      <td>3271</td>\n",
       "      <td>1</td>\n",
       "      <td>클렌징</td>\n",
       "      <td>케어존 약산성폼 30ml</td>\n",
       "    </tr>\n",
       "    <tr>\n",
       "      <th>2919</th>\n",
       "      <td>8</td>\n",
       "      <td>5900</td>\n",
       "      <td>4.6</td>\n",
       "      <td>852</td>\n",
       "      <td>1</td>\n",
       "      <td>클렌징</td>\n",
       "      <td>식물나라 쌀겨수 매끈 스크럽 폼 120g</td>\n",
       "    </tr>\n",
       "    <tr>\n",
       "      <th>2938</th>\n",
       "      <td>8</td>\n",
       "      <td>5100</td>\n",
       "      <td>4.7</td>\n",
       "      <td>3901</td>\n",
       "      <td>1</td>\n",
       "      <td>클렌징</td>\n",
       "      <td>라운드어라운드 컴포트 그린티 뽀득폼 200ML 기획</td>\n",
       "    </tr>\n",
       "    <tr>\n",
       "      <th>3038</th>\n",
       "      <td>9</td>\n",
       "      <td>3900</td>\n",
       "      <td>4.6</td>\n",
       "      <td>2129</td>\n",
       "      <td>1</td>\n",
       "      <td>패드</td>\n",
       "      <td>아리얼 스트레스 릴리빙 데일리 픽 패드  2종 중 택1</td>\n",
       "    </tr>\n",
       "    <tr>\n",
       "      <th>3122</th>\n",
       "      <td>9</td>\n",
       "      <td>4050</td>\n",
       "      <td>5.0</td>\n",
       "      <td>90</td>\n",
       "      <td>1</td>\n",
       "      <td>패드</td>\n",
       "      <td>시카 카밍토너패드 10매</td>\n",
       "    </tr>\n",
       "  </tbody>\n",
       "</table>\n",
       "<p>223 rows × 7 columns</p>\n",
       "</div>"
      ],
      "text/plain": [
       "      카테고리    가격  총평점  총 리뷰 수  cluster   카테고리명                             제품명\n",
       "231      1   990  4.6      71        1      로션    엠도씨 안티 링클 스킨 플러스 로션 150ml 기획\n",
       "381      2  5600  4.7     487        1  미스트&오일          에비앙 브뤼미자뙤르 페이셜미스트 50ml\n",
       "798      3   990  4.8       8        1     선크림        엠도씨 선 스킨 플러스 크림 100ml 기획\n",
       "1142     5  1000  4.9  224262        1     시트팩       메디힐 에센셜 마스크팩 1매 고기능 7종 택1\n",
       "1158     5  2000  5.0     237        1     시트팩      바이오힐보 세라뮨 하이드레이팅 크림 마스크 1매\n",
       "...    ...   ...  ...     ...      ...     ...                             ...\n",
       "2889     8  2000  4.7    3271        1     클렌징                   케어존 약산성폼 30ml\n",
       "2919     8  5900  4.6     852        1     클렌징          식물나라 쌀겨수 매끈 스크럽 폼 120g\n",
       "2938     8  5100  4.7    3901        1     클렌징    라운드어라운드 컴포트 그린티 뽀득폼 200ML 기획\n",
       "3038     9  3900  4.6    2129        1      패드  아리얼 스트레스 릴리빙 데일리 픽 패드  2종 중 택1\n",
       "3122     9  4050  5.0      90        1      패드                   시카 카밍토너패드 10매\n",
       "\n",
       "[223 rows x 7 columns]"
      ]
     },
     "execution_count": 152,
     "metadata": {},
     "output_type": "execute_result"
    }
   ],
   "source": [
    "cluster_1[\"제품명\"] = 제품.loc[cluster_1.index, \"제품명\"]\n",
    "cluster_1"
   ]
  },
  {
   "cell_type": "code",
   "execution_count": 153,
   "metadata": {},
   "outputs": [],
   "source": [
    "cluster_1=cluster_1[['cluster','카테고리','카테고리명','제품명','가격','총평점','총 리뷰 수']]"
   ]
  },
  {
   "cell_type": "markdown",
   "metadata": {},
   "source": [
    "#### 5.2.1 Cluster1 분포"
   ]
  },
  {
   "cell_type": "code",
   "execution_count": 154,
   "metadata": {},
   "outputs": [
    {
     "data": {
      "text/html": [
       "<div>\n",
       "<style scoped>\n",
       "    .dataframe tbody tr th:only-of-type {\n",
       "        vertical-align: middle;\n",
       "    }\n",
       "\n",
       "    .dataframe tbody tr th {\n",
       "        vertical-align: top;\n",
       "    }\n",
       "\n",
       "    .dataframe thead th {\n",
       "        text-align: right;\n",
       "    }\n",
       "</style>\n",
       "<table border=\"1\" class=\"dataframe\">\n",
       "  <thead>\n",
       "    <tr style=\"text-align: right;\">\n",
       "      <th></th>\n",
       "      <th>cluster</th>\n",
       "      <th>카테고리</th>\n",
       "      <th>가격</th>\n",
       "      <th>총평점</th>\n",
       "      <th>총 리뷰 수</th>\n",
       "    </tr>\n",
       "  </thead>\n",
       "  <tbody>\n",
       "    <tr>\n",
       "      <th>count</th>\n",
       "      <td>223.0</td>\n",
       "      <td>223.000000</td>\n",
       "      <td>223.000000</td>\n",
       "      <td>223.000000</td>\n",
       "      <td>223.000000</td>\n",
       "    </tr>\n",
       "    <tr>\n",
       "      <th>mean</th>\n",
       "      <td>1.0</td>\n",
       "      <td>5.183857</td>\n",
       "      <td>3228.699552</td>\n",
       "      <td>4.773543</td>\n",
       "      <td>6919.529148</td>\n",
       "    </tr>\n",
       "    <tr>\n",
       "      <th>std</th>\n",
       "      <td>0.0</td>\n",
       "      <td>0.883946</td>\n",
       "      <td>1792.152969</td>\n",
       "      <td>0.092850</td>\n",
       "      <td>24828.183295</td>\n",
       "    </tr>\n",
       "    <tr>\n",
       "      <th>min</th>\n",
       "      <td>1.0</td>\n",
       "      <td>1.000000</td>\n",
       "      <td>750.000000</td>\n",
       "      <td>4.400000</td>\n",
       "      <td>8.000000</td>\n",
       "    </tr>\n",
       "    <tr>\n",
       "      <th>25%</th>\n",
       "      <td>1.0</td>\n",
       "      <td>5.000000</td>\n",
       "      <td>1600.000000</td>\n",
       "      <td>4.700000</td>\n",
       "      <td>332.500000</td>\n",
       "    </tr>\n",
       "    <tr>\n",
       "      <th>50%</th>\n",
       "      <td>1.0</td>\n",
       "      <td>5.000000</td>\n",
       "      <td>3000.000000</td>\n",
       "      <td>4.800000</td>\n",
       "      <td>1294.000000</td>\n",
       "    </tr>\n",
       "    <tr>\n",
       "      <th>75%</th>\n",
       "      <td>1.0</td>\n",
       "      <td>5.000000</td>\n",
       "      <td>4025.000000</td>\n",
       "      <td>4.800000</td>\n",
       "      <td>5099.500000</td>\n",
       "    </tr>\n",
       "    <tr>\n",
       "      <th>max</th>\n",
       "      <td>1.0</td>\n",
       "      <td>9.000000</td>\n",
       "      <td>8000.000000</td>\n",
       "      <td>5.000000</td>\n",
       "      <td>266778.000000</td>\n",
       "    </tr>\n",
       "  </tbody>\n",
       "</table>\n",
       "</div>"
      ],
      "text/plain": [
       "       cluster        카테고리           가격         총평점         총 리뷰 수\n",
       "count    223.0  223.000000   223.000000  223.000000     223.000000\n",
       "mean       1.0    5.183857  3228.699552    4.773543    6919.529148\n",
       "std        0.0    0.883946  1792.152969    0.092850   24828.183295\n",
       "min        1.0    1.000000   750.000000    4.400000       8.000000\n",
       "25%        1.0    5.000000  1600.000000    4.700000     332.500000\n",
       "50%        1.0    5.000000  3000.000000    4.800000    1294.000000\n",
       "75%        1.0    5.000000  4025.000000    4.800000    5099.500000\n",
       "max        1.0    9.000000  8000.000000    5.000000  266778.000000"
      ]
     },
     "execution_count": 154,
     "metadata": {},
     "output_type": "execute_result"
    }
   ],
   "source": [
    "cluster_1.describe()"
   ]
  },
  {
   "cell_type": "markdown",
   "metadata": {},
   "source": [
    "cluster 1\n",
    "- 가격은 평균이 약 3228원, 편차는 1792. 중앙값은 3000원임. 차이가 큼. 즉, 가격의 분포가 불균형\n",
    "- 총 평균의 경우 평균 4.77, 편차는 0.092으로 밀집되어있음. 근데 최소값이 4.4, 최대값이 5으로 평점이 너무 높음.\n",
    "- 총 리뷰 수는 평균 6919, 편차는 24828으로 차이가 극단적으로 큼. 즉, 리뷰 수의 분포가 불균형"
   ]
  },
  {
   "cell_type": "code",
   "execution_count": 201,
   "metadata": {},
   "outputs": [
    {
     "name": "stderr",
     "output_type": "stream",
     "text": [
      "C:\\Users\\박명화\\AppData\\Local\\Temp\\ipykernel_7444\\3071625701.py:19: SettingWithCopyWarning: \n",
      "A value is trying to be set on a copy of a slice from a DataFrame.\n",
      "Try using .loc[row_indexer,col_indexer] = value instead\n",
      "\n",
      "See the caveats in the documentation: https://pandas.pydata.org/pandas-docs/stable/user_guide/indexing.html#returning-a-view-versus-a-copy\n",
      "  cluster_1[\"카테고리명\"] = cluster_1[\"카테고리\"].map(category_mapping)\n",
      "C:\\Users\\박명화\\AppData\\Local\\Temp\\ipykernel_7444\\3071625701.py:28: FutureWarning: \n",
      "\n",
      "Passing `palette` without assigning `hue` is deprecated and will be removed in v0.14.0. Assign the `y` variable to `hue` and set `legend=False` for the same effect.\n",
      "\n",
      "  ax = sns.barplot(y=category_counts.index, x=category_counts.values, palette=colors)\n"
     ]
    },
    {
     "data": {
      "image/png": "[encoded data removed]",
      "text/plain": [
       "<Figure size 800x500 with 1 Axes>"
      ]
     },
     "metadata": {},
     "output_type": "display_data"
    }
   ],
   "source": [
    "import matplotlib.pyplot as plt\n",
    "import seaborn as sns\n",
    "\n",
    "# 📌 인코딩된 카테고리 코드 → 실제 카테고리명으로 변환\n",
    "category_mapping = {\n",
    "    0: \"남성메이크업\",\n",
    "    1: \"로션\",\n",
    "    2: \"미스트&오일\",\n",
    "    3: \"선크림\",\n",
    "    4: \"스킨토너\",\n",
    "    5: \"시트팩\",\n",
    "    6: \"에센스&세럼&앰플\",\n",
    "    7: \"크림\",\n",
    "    8: \"클렌징\",\n",
    "    9: \"패드\"\n",
    "}\n",
    "\n",
    "# 📌 카테고리 이름으로 변환\n",
    "cluster_1[\"카테고리명\"] = cluster_1[\"카테고리\"].map(category_mapping)\n",
    "category_counts = cluster_1[\"카테고리명\"].value_counts(normalize=True) * 100  # 비율 변환\n",
    "\n",
    "# 📌 \"#C9CD4D\" → \"#D3D3D3\" 그라데이션 색상 적용\n",
    "num_categories = len(category_counts)\n",
    "colors = sns.color_palette(\"blend:#C9CD4D,#D3D3D3\", num_categories)\n",
    "\n",
    "# 📌 수평 막대 그래프 생성 (테두리 제거)\n",
    "plt.figure(figsize=(8, 5))\n",
    "ax = sns.barplot(y=category_counts.index, x=category_counts.values, palette=colors)\n",
    "\n",
    "# 📌 x, y 라벨 및 제목 설정\n",
    "plt.xlabel(\"비율 (%)\", fontsize=12)\n",
    "plt.ylabel(\"\", fontsize=12)\n",
    "plt.title(\"Cluster 1의 카테고리별 제품 비율\", fontsize=14)\n",
    "plt.xlim(0, max(category_counts.values) + 5)  # 그래프 우측 여백 추가\n",
    "\n",
    "# 📌 막대 위에 숫자(비율) 표시 (테두리 없이)\n",
    "for index, value in enumerate(category_counts):\n",
    "    ax.text(value + 0.5, index, f\"{value:.1f}%\", ha='left', va='center', fontsize=10)\n",
    "\n",
    "# 📌 테두리 제거\n",
    "sns.despine(left=True, bottom=True)\n",
    "\n",
    "# 📌 그래프 출력\n",
    "plt.show()\n"
   ]
  },
  {
   "cell_type": "code",
   "execution_count": 157,
   "metadata": {},
   "outputs": [
    {
     "data": {
      "image/png": "[encoded data removed]",
      "text/plain": [
       "<Figure size 1800x500 with 3 Axes>"
      ]
     },
     "metadata": {},
     "output_type": "display_data"
    }
   ],
   "source": [
    "# 히스토그램: 가격, 총 평점, 총 리뷰 수 분포\n",
    "fig, axes = plt.subplots(1, 3, figsize=(18, 5))\n",
    "\n",
    "sns.histplot(cluster_1[\"가격\"], bins=30,color=\"#C9CD4D\", kde=True, ax=axes[0], alpha=0.9)\n",
    "axes[0].set_title(\"가격 분포\")\n",
    "\n",
    "sns.histplot(cluster_1[\"총평점\"], bins=30,color=\"#C9CD4D\", kde=True, ax=axes[1], alpha=0.9)\n",
    "axes[1].set_title(\"총 평점 분포\")\n",
    "\n",
    "sns.histplot(cluster_1[\"총 리뷰 수\"], bins=30, color=\"#C9CD4D\",kde=True, ax=axes[2], alpha=0.9)\n",
    "axes[2].set_title(\"총 리뷰 수 분포\")\n",
    "\n",
    "plt.show()"
   ]
  },
  {
   "cell_type": "code",
   "execution_count": 158,
   "metadata": {},
   "outputs": [
    {
     "data": {
      "image/png": "[encoded data removed]",
      "text/plain": [
       "<Figure size 1800x500 with 3 Axes>"
      ]
     },
     "metadata": {},
     "output_type": "display_data"
    }
   ],
   "source": [
    "# 산점도: 가격과 총 평점, 가격과 총 리뷰 수, 총 평점과 총 리뷰 수\n",
    "fig, axes = plt.subplots(1, 3, figsize=(18, 5))\n",
    "\n",
    "sns.scatterplot(x=cluster_1[\"가격\"], y=cluster_1[\"총평점\"], color=\"#C9CD4D\",alpha=0.9, ax=axes[0])\n",
    "axes[0].set_title(\"가격 vs 총 평점\")\n",
    "\n",
    "sns.scatterplot(x=cluster_1[\"가격\"], y=cluster_1[\"총 리뷰 수\"], color=\"#C9CD4D\", alpha=0.9, ax=axes[1])\n",
    "axes[1].set_title(\"가격 vs 총 리뷰 수\")\n",
    "\n",
    "sns.scatterplot(x=cluster_1[\"총평점\"], y=cluster_1[\"총 리뷰 수\"], color=\"#C9CD4D\", alpha=0.9, ax=axes[2])\n",
    "axes[2].set_title(\"총 평점 vs 총 리뷰 수\")\n",
    "\n",
    "plt.show()"
   ]
  },
  {
   "cell_type": "markdown",
   "metadata": {},
   "source": [
    "약한 선형적인 관계를 보이는 총 평점과 총 리뷰 수 이지만 총평점의 경우 최솟값이 4.4, 최대값이 5.0로 너무 밀집되어 있어 총평점이 높을수록 리뷰수가 많아진다고 판단하기 어려움."
   ]
  },
  {
   "cell_type": "markdown",
   "metadata": {},
   "source": [
    "#### 5.2.2 제품별 가격과 리뷰 수 관계 분석"
   ]
  },
  {
   "cell_type": "code",
   "execution_count": 159,
   "metadata": {},
   "outputs": [
    {
     "data": {
      "image/png": "[encoded data removed]",
      "text/plain": [
       "<Figure size 600x400 with 2 Axes>"
      ]
     },
     "metadata": {},
     "output_type": "display_data"
    }
   ],
   "source": [
    "import seaborn as sns\n",
    "import matplotlib.pyplot as plt\n",
    "\n",
    "# 숫자형 데이터만 선택 (가격과 총 리뷰 수)\n",
    "df_numeric = cluster_1.select_dtypes(include=['number'])  # 숫자형 데이터만 선택\n",
    "\n",
    "# 상관계수 계산\n",
    "corr_matrix = df_numeric.corr()\n",
    "\n",
    "# 히트맵 그리기\n",
    "plt.figure(figsize=(6, 4))\n",
    "sns.heatmap(corr_matrix, annot=True, cmap='coolwarm', fmt=\".2f\", linewidths=0.5)\n",
    "plt.title(\"Cluster 1, 가격과 총 리뷰 수의 상관관계 히트맵\")\n",
    "plt.show()\n"
   ]
  },
  {
   "cell_type": "markdown",
   "metadata": {},
   "source": [
    "해석<br>\n",
    "Cluster1: 가격, 평점, 리뷰 수 등과 강한 연관이 없다는 뜻.\n",
    "- 가격과 평점 사이에 약한 음의 상관관계(-0.21)\n",
    "- 총 리뷰수와 총평점의 관계 약한 양의 상관관계(0.18)\n",
    "- 카테고리와 가격의 약한 양의 상관관계(-0.04)<br>\n",
    "-> 평점의 경우, 최솟값이 4.4, 최대값이 5.0으로 유의미한 점수라고 보기 어렵다. <br>\n",
    "     카테고리의 숫자는 인코딩된 번호이기에 가격의 관계를 분석할 필요가 없음."
   ]
  },
  {
   "cell_type": "markdown",
   "metadata": {},
   "source": [
    "- 이 클러스터 (군집화)로 확인해야될 분석\n",
    "1. Cluster 1 내에서 가격과 리뷰 수의 분포가 어떻게 형성되는지 확인-> 차이를 비교하여 세부적인 패턴을 찾기\n",
    "2. Cluster 1 내 제품별 가격과 리뷰 수 관계 분석 -> 리뷰 수가 높은 제품과 낮은 제품의 가격 차이가 있는지 확인, 가격이 높은 제품이 반드시 리뷰 수도 높은지 소비자 반응과의 관계 분석\n",
    "3. Cluster 1 내 시트팩 & 클렌징의 브랜드 분석 -> 특정 브랜드가 이 클러스터에서 우세한지 확인->Cluster 1 내 브랜드별 점유율 (파이 차트, 바 차트), 브랜드별 평균 가격 & 리뷰 수 비교"
   ]
  },
  {
   "cell_type": "markdown",
   "metadata": {
    "id": "BnBRaB0HlrQK"
   },
   "source": [
    "---"
   ]
  },
  {
   "cell_type": "markdown",
   "metadata": {
    "id": "eulsx00olrQK"
   },
   "source": [
    "## 3. 감성 분석 및 브랜드 마케팅\n",
    "\n",
    "**감성분석 경위**\n",
    "- **평점만으로 제대로 된 고객반응 분석이 어렵다** : 평점 최고점(5) 리뷰 표본을 직접 조사 한 결과, 일부 리뷰는 중립, 또는 부정적인 의견, 단어나 뉘앙스를 보임에도 불구하고 평점은 5점으로 기록 되었다. 따라서 오직 평점만으로 사용자의 반응분석을 진행 할 경우 신뢰성 있는 분석이라고 보기 어렵다고 판단된다. 따라서 평점과 관계없이 잘 학습된 자연어 모델로 리뷰에 대한 점수를 다시 측정하여 이를 기준으로 *사용자 감성*을 분석 및 *추천 시스템*을 개발한다. \n",
    "\n",
    "- *평점은 5점이나 긍정의 반응이라고 판단되는 리뷰의 예*: ['??리뉴얼 전으로 돌아갔으면 좋겠어요..리뉴얼 후에도 여전히 좋긴 하지만, 이전 제품이 워낙 좋았다보니 아무래도 비교가 되는것 같아요ㅠㅠ리뉴얼 전 후를 간단하게 비교하자면, 리뉴얼 전에 비해<겉도는 양은 많아지고 수분감은 줄어들었어요..(중략)..아쉽습니다ㅜㅜ']\n",
    "\n",
    "**학습용 데이터**  \n",
    "- 네이버쇼핑몰 리뷰 텍스트 (Review Text) 20만건\n",
    "\n",
    "**레이블**  \n",
    "- 감성 분류 (긍정(1), 부정(0))  \n",
    "\n",
    "**모델**  \n",
    "- GRU (tensorflow)\n",
    "\n",
    "**예측 데이터**\n",
    "- 올리브영 제품리뷰 225269건\n",
    "\n",
    "\n",
    "\n",
    "\n",
    "**활용 목표**  \n",
    "- 특정 브랜드와 경쟁사의 감성 차이 분석  \n",
    "- 브랜드 인지도 및 평판 개선을 위한 전략 수립  \n",
    "- Wordcloud 등 시각화를 통한 마케팅 인사이트 도출"
   ]
  },
  {
   "cell_type": "markdown",
   "metadata": {},
   "source": [
    "## GLU딥러닝 모델 학습과정 -> 수업내용중 인공지능 18번 코랩 내용중 네이버 리뷰 데이터로 딥러닝 모델 학습하는 과정을 정리하고 축약해서 이 파트에 넣어주세요. "
   ]
  },
  {
   "cell_type": "markdown",
   "metadata": {},
   "source": [
    "### 예측용 데이터 로드"
   ]
  },
  {
   "cell_type": "code",
   "execution_count": 23,
   "metadata": {
    "id": "VDG7RvPQlrQL",
    "outputId": "7f80a952-7f4a-4944-e5ba-1cddff35585a"
   },
   "outputs": [
    {
     "data": {
      "text/html": [
       "<div>\n",
       "<style scoped>\n",
       "    .dataframe tbody tr th:only-of-type {\n",
       "        vertical-align: middle;\n",
       "    }\n",
       "\n",
       "    .dataframe tbody tr th {\n",
       "        vertical-align: top;\n",
       "    }\n",
       "\n",
       "    .dataframe thead th {\n",
       "        text-align: right;\n",
       "    }\n",
       "</style>\n",
       "<table border=\"1\" class=\"dataframe\">\n",
       "  <thead>\n",
       "    <tr style=\"text-align: right;\">\n",
       "      <th></th>\n",
       "      <th>카테고리</th>\n",
       "      <th>제품명</th>\n",
       "      <th>유저ID</th>\n",
       "      <th>평점</th>\n",
       "      <th>날짜</th>\n",
       "      <th>키워드</th>\n",
       "      <th>리뷰</th>\n",
       "    </tr>\n",
       "  </thead>\n",
       "  <tbody>\n",
       "    <tr>\n",
       "      <th>0</th>\n",
       "      <td>로션</td>\n",
       "      <td>에스트라 아토베리어365 로션 150ml 리필 기획</td>\n",
       "      <td>망구네</td>\n",
       "      <td>5</td>\n",
       "      <td>2025.01.25</td>\n",
       "      <td>민감성 웜톤 트러블</td>\n",
       "      <td>굿굿 대용량이 나와서 좋아요 촉촉하고 오래전부터 쓰던 제품입니다</td>\n",
       "    </tr>\n",
       "    <tr>\n",
       "      <th>1</th>\n",
       "      <td>로션</td>\n",
       "      <td>에스트라 아토베리어365 로션 150ml 리필 기획</td>\n",
       "      <td>맹고멍멍</td>\n",
       "      <td>5</td>\n",
       "      <td>2025.02.05</td>\n",
       "      <td>복합성 쿨톤 모공 탄력</td>\n",
       "      <td>대용량 너무 좋아요!!듬뿍듬뿍 바르는 중입니다 최공~!</td>\n",
       "    </tr>\n",
       "    <tr>\n",
       "      <th>2</th>\n",
       "      <td>로션</td>\n",
       "      <td>에스트라 아토베리어365 로션 150ml 리필 기획</td>\n",
       "      <td>포즈커</td>\n",
       "      <td>5</td>\n",
       "      <td>2025.02.04</td>\n",
       "      <td>건성 겨울쿨톤 다크서클 민감성</td>\n",
       "      <td>??리뉴얼 전으로 돌아갔으면 좋겠어요..리뉴얼 후에도 여전히 좋긴 하지만, 이전 제...</td>\n",
       "    </tr>\n",
       "    <tr>\n",
       "      <th>3</th>\n",
       "      <td>로션</td>\n",
       "      <td>에스트라 아토베리어365 로션 150ml 리필 기획</td>\n",
       "      <td>녹차라떼덕후</td>\n",
       "      <td>5</td>\n",
       "      <td>2025.02.04</td>\n",
       "      <td>복합성 쿨톤 모공 탄력</td>\n",
       "      <td>정말 너무 순하고 자극이 하나도 없어요, 에스트라가 왜 소문났는지 알 것 같아요</td>\n",
       "    </tr>\n",
       "    <tr>\n",
       "      <th>4</th>\n",
       "      <td>로션</td>\n",
       "      <td>에스트라 아토베리어365 로션 150ml 리필 기획</td>\n",
       "      <td>맹고멍멍</td>\n",
       "      <td>5</td>\n",
       "      <td>2025.01.16</td>\n",
       "      <td>건성 모공 미백</td>\n",
       "      <td>에스트라 없이 못 살아요ㅠㅠㅠ진짜 돌고돌아 에스트라 쓰게 됩니다,,ㅠㅠ</td>\n",
       "    </tr>\n",
       "    <tr>\n",
       "      <th>5</th>\n",
       "      <td>로션</td>\n",
       "      <td>에스트라 아토베리어365 로션 150ml 리필 기획</td>\n",
       "      <td>꿈꾸는냥이</td>\n",
       "      <td>5</td>\n",
       "      <td>2025.01.31</td>\n",
       "      <td>지성 가을웜톤 다크서클 모공</td>\n",
       "      <td>로션 안쓰고 에센스를 여러가지 쓰는 타입이였는데 겨울되니 로션을 안쓸수가 없어 구매...</td>\n",
       "    </tr>\n",
       "    <tr>\n",
       "      <th>6</th>\n",
       "      <td>로션</td>\n",
       "      <td>에스트라 아토베리어365 로션 150ml 리필 기획</td>\n",
       "      <td>shanying</td>\n",
       "      <td>5</td>\n",
       "      <td>2025.01.19</td>\n",
       "      <td>복합성 봄웜톤 다크서클 모공</td>\n",
       "      <td>매번 구매하고 있는 제품입니다!! ㅎㅎ다른 분들에게도 강력 추천드리고 싶습니다!!</td>\n",
       "    </tr>\n",
       "    <tr>\n",
       "      <th>7</th>\n",
       "      <td>로션</td>\n",
       "      <td>에스트라 아토베리어365 로션 150ml 리필 기획</td>\n",
       "      <td>애뎡</td>\n",
       "      <td>5</td>\n",
       "      <td>2025.01.26</td>\n",
       "      <td>건성 다크서클 모공</td>\n",
       "      <td>너무 좋아요ㅜ 건조하고 피부 망가져서 속상했는데 쓰고 난 후로 건조함도 없어지고 아...</td>\n",
       "    </tr>\n",
       "    <tr>\n",
       "      <th>8</th>\n",
       "      <td>로션</td>\n",
       "      <td>에스트라 아토베리어365 로션 150ml 리필 기획</td>\n",
       "      <td>cenoifroubr</td>\n",
       "      <td>5</td>\n",
       "      <td>2024.12.30</td>\n",
       "      <td>민감성 가을웜톤 민감성 잡티</td>\n",
       "      <td>피부 뒤집어질 때마다 찾는 로션입니당확실하게 피부컨디션이 안 좋을 때 꼼꼼하게 발라...</td>\n",
       "    </tr>\n",
       "    <tr>\n",
       "      <th>9</th>\n",
       "      <td>로션</td>\n",
       "      <td>에스트라 아토베리어365 로션 150ml 리필 기획</td>\n",
       "      <td>감자슬</td>\n",
       "      <td>5</td>\n",
       "      <td>2025.01.27</td>\n",
       "      <td>NaN</td>\n",
       "      <td>믿고 쓰는 에스트라! 피부가 예민한 편이라 로션도 순한 걸로 찾고 있었는데 에스타라...</td>\n",
       "    </tr>\n",
       "    <tr>\n",
       "      <th>10</th>\n",
       "      <td>로션</td>\n",
       "      <td>에스트라 아토베리어365 로션 150ml 리필 기획</td>\n",
       "      <td>Mongmong8</td>\n",
       "      <td>5</td>\n",
       "      <td>2025.01.30</td>\n",
       "      <td>복합성 봄웜톤 모공 블랙헤드</td>\n",
       "      <td>크림보다는 보습력은 떨어지지만 너무 라이트하지 않게 보습 충전해주는 것 같아요 순해...</td>\n",
       "    </tr>\n",
       "    <tr>\n",
       "      <th>11</th>\n",
       "      <td>로션</td>\n",
       "      <td>에스트라 아토베리어365 로션 150ml 리필 기획</td>\n",
       "      <td>뿡치뿡</td>\n",
       "      <td>5</td>\n",
       "      <td>2025.02.03</td>\n",
       "      <td>건성 쿨톤 민감성 잡티</td>\n",
       "      <td>건성분들한테 진짜 강력추천이요 순하고 촉촉하고 흡수도 빨라서 온 가족들이 다같이 사...</td>\n",
       "    </tr>\n",
       "    <tr>\n",
       "      <th>12</th>\n",
       "      <td>로션</td>\n",
       "      <td>에스트라 아토베리어365 로션 150ml 리필 기획</td>\n",
       "      <td>마녀핑</td>\n",
       "      <td>5</td>\n",
       "      <td>2025.02.02</td>\n",
       "      <td>복합성 겨울쿨톤 각질 잡티</td>\n",
       "      <td>좋아요 쟁임템이구 용량도 많은데 앵간한크림보다 보습력이 좋아용</td>\n",
       "    </tr>\n",
       "    <tr>\n",
       "      <th>13</th>\n",
       "      <td>로션</td>\n",
       "      <td>에스트라 아토베리어365 로션 150ml 리필 기획</td>\n",
       "      <td>올영은쿠폰더줘</td>\n",
       "      <td>5</td>\n",
       "      <td>2025.02.02</td>\n",
       "      <td>트러블성 쿨톤 모공 민감성</td>\n",
       "      <td>피부과에서 받은뒤러 이 브랜드 로션만 10년째 쓰고 있어요 진짜 너무 좋습니다</td>\n",
       "    </tr>\n",
       "    <tr>\n",
       "      <th>14</th>\n",
       "      <td>로션</td>\n",
       "      <td>에스트라 아토베리어365 로션 150ml 리필 기획</td>\n",
       "      <td>깝쭉이</td>\n",
       "      <td>5</td>\n",
       "      <td>2025.01.08</td>\n",
       "      <td>복합성 쿨톤 민감성 잡티</td>\n",
       "      <td>수부지 기준 에스트라 크림은 부분적으로만 바르기에 좋은데 그냥 수딩크림들은 겨울에 ...</td>\n",
       "    </tr>\n",
       "    <tr>\n",
       "      <th>15</th>\n",
       "      <td>로션</td>\n",
       "      <td>에스트라 아토베리어365 로션 150ml 리필 기획</td>\n",
       "      <td>른른이</td>\n",
       "      <td>5</td>\n",
       "      <td>2025.01.26</td>\n",
       "      <td>건성 웜톤 모공 미백</td>\n",
       "      <td>수분감을 충분히 느낄수 있고부드럽게 잘 발려요온가족바르기 좋아요</td>\n",
       "    </tr>\n",
       "    <tr>\n",
       "      <th>16</th>\n",
       "      <td>로션</td>\n",
       "      <td>에스트라 아토베리어365 로션 150ml 리필 기획</td>\n",
       "      <td>Cherrypink</td>\n",
       "      <td>5</td>\n",
       "      <td>2025.01.22</td>\n",
       "      <td>복합성 웜톤 홍조</td>\n",
       "      <td>에스트라 너무 좋아해요. ㅋㅋ크림만 쓰다 로션도 궁굼해서 구매</td>\n",
       "    </tr>\n",
       "    <tr>\n",
       "      <th>17</th>\n",
       "      <td>로션</td>\n",
       "      <td>에스트라 아토베리어365 로션 150ml 리필 기획</td>\n",
       "      <td>apretty</td>\n",
       "      <td>5</td>\n",
       "      <td>2025.01.22</td>\n",
       "      <td>복합성 웜톤 각질 모공</td>\n",
       "      <td>일단 펌핑 타입이라 좋고 제형이 전형 적인 로션 타입 그런데 보습이 아주 짱짱해서 ...</td>\n",
       "    </tr>\n",
       "    <tr>\n",
       "      <th>18</th>\n",
       "      <td>로션</td>\n",
       "      <td>에스트라 아토베리어365 로션 150ml 리필 기획</td>\n",
       "      <td>쁘꾸</td>\n",
       "      <td>5</td>\n",
       "      <td>2025.02.02</td>\n",
       "      <td>복합성 쿨톤 각질 모공</td>\n",
       "      <td>에스트라 제품이 진짜 너무 좋아요 다 알아셔서 할 말이 없지만 몇 번째 재구매인지 뮬라여</td>\n",
       "    </tr>\n",
       "    <tr>\n",
       "      <th>19</th>\n",
       "      <td>로션</td>\n",
       "      <td>에스트라 아토베리어365 로션 150ml 리필 기획</td>\n",
       "      <td>Kk</td>\n",
       "      <td>5</td>\n",
       "      <td>2025.01.24</td>\n",
       "      <td>NaN</td>\n",
       "      <td>늘 쓰는 좋아하는 제품인데 대용량이 나와서 너무 좋아용 애스트라 라로슈포제 꿀조합입니당</td>\n",
       "    </tr>\n",
       "  </tbody>\n",
       "</table>\n",
       "</div>"
      ],
      "text/plain": [
       "   카테고리                           제품명         유저ID  평점          날짜  \\\n",
       "0    로션  에스트라 아토베리어365 로션 150ml 리필 기획          망구네   5  2025.01.25   \n",
       "1    로션  에스트라 아토베리어365 로션 150ml 리필 기획         맹고멍멍   5  2025.02.05   \n",
       "2    로션  에스트라 아토베리어365 로션 150ml 리필 기획          포즈커   5  2025.02.04   \n",
       "3    로션  에스트라 아토베리어365 로션 150ml 리필 기획       녹차라떼덕후   5  2025.02.04   \n",
       "4    로션  에스트라 아토베리어365 로션 150ml 리필 기획         맹고멍멍   5  2025.01.16   \n",
       "5    로션  에스트라 아토베리어365 로션 150ml 리필 기획        꿈꾸는냥이   5  2025.01.31   \n",
       "6    로션  에스트라 아토베리어365 로션 150ml 리필 기획     shanying   5  2025.01.19   \n",
       "7    로션  에스트라 아토베리어365 로션 150ml 리필 기획           애뎡   5  2025.01.26   \n",
       "8    로션  에스트라 아토베리어365 로션 150ml 리필 기획  cenoifroubr   5  2024.12.30   \n",
       "9    로션  에스트라 아토베리어365 로션 150ml 리필 기획          감자슬   5  2025.01.27   \n",
       "10   로션  에스트라 아토베리어365 로션 150ml 리필 기획    Mongmong8   5  2025.01.30   \n",
       "11   로션  에스트라 아토베리어365 로션 150ml 리필 기획          뿡치뿡   5  2025.02.03   \n",
       "12   로션  에스트라 아토베리어365 로션 150ml 리필 기획          마녀핑   5  2025.02.02   \n",
       "13   로션  에스트라 아토베리어365 로션 150ml 리필 기획      올영은쿠폰더줘   5  2025.02.02   \n",
       "14   로션  에스트라 아토베리어365 로션 150ml 리필 기획          깝쭉이   5  2025.01.08   \n",
       "15   로션  에스트라 아토베리어365 로션 150ml 리필 기획          른른이   5  2025.01.26   \n",
       "16   로션  에스트라 아토베리어365 로션 150ml 리필 기획   Cherrypink   5  2025.01.22   \n",
       "17   로션  에스트라 아토베리어365 로션 150ml 리필 기획      apretty   5  2025.01.22   \n",
       "18   로션  에스트라 아토베리어365 로션 150ml 리필 기획           쁘꾸   5  2025.02.02   \n",
       "19   로션  에스트라 아토베리어365 로션 150ml 리필 기획           Kk   5  2025.01.24   \n",
       "\n",
       "                 키워드                                                 리뷰  \n",
       "0         민감성 웜톤 트러블                굿굿 대용량이 나와서 좋아요 촉촉하고 오래전부터 쓰던 제품입니다  \n",
       "1       복합성 쿨톤 모공 탄력                     대용량 너무 좋아요!!듬뿍듬뿍 바르는 중입니다 최공~!  \n",
       "2   건성 겨울쿨톤 다크서클 민감성  ??리뉴얼 전으로 돌아갔으면 좋겠어요..리뉴얼 후에도 여전히 좋긴 하지만, 이전 제...  \n",
       "3       복합성 쿨톤 모공 탄력       정말 너무 순하고 자극이 하나도 없어요, 에스트라가 왜 소문났는지 알 것 같아요  \n",
       "4           건성 모공 미백            에스트라 없이 못 살아요ㅠㅠㅠ진짜 돌고돌아 에스트라 쓰게 됩니다,,ㅠㅠ  \n",
       "5    지성 가을웜톤 다크서클 모공  로션 안쓰고 에센스를 여러가지 쓰는 타입이였는데 겨울되니 로션을 안쓸수가 없어 구매...  \n",
       "6    복합성 봄웜톤 다크서클 모공      매번 구매하고 있는 제품입니다!! ㅎㅎ다른 분들에게도 강력 추천드리고 싶습니다!!  \n",
       "7         건성 다크서클 모공  너무 좋아요ㅜ 건조하고 피부 망가져서 속상했는데 쓰고 난 후로 건조함도 없어지고 아...  \n",
       "8    민감성 가을웜톤 민감성 잡티  피부 뒤집어질 때마다 찾는 로션입니당확실하게 피부컨디션이 안 좋을 때 꼼꼼하게 발라...  \n",
       "9                NaN  믿고 쓰는 에스트라! 피부가 예민한 편이라 로션도 순한 걸로 찾고 있었는데 에스타라...  \n",
       "10   복합성 봄웜톤 모공 블랙헤드  크림보다는 보습력은 떨어지지만 너무 라이트하지 않게 보습 충전해주는 것 같아요 순해...  \n",
       "11      건성 쿨톤 민감성 잡티  건성분들한테 진짜 강력추천이요 순하고 촉촉하고 흡수도 빨라서 온 가족들이 다같이 사...  \n",
       "12    복합성 겨울쿨톤 각질 잡티                 좋아요 쟁임템이구 용량도 많은데 앵간한크림보다 보습력이 좋아용  \n",
       "13    트러블성 쿨톤 모공 민감성        피부과에서 받은뒤러 이 브랜드 로션만 10년째 쓰고 있어요 진짜 너무 좋습니다  \n",
       "14     복합성 쿨톤 민감성 잡티  수부지 기준 에스트라 크림은 부분적으로만 바르기에 좋은데 그냥 수딩크림들은 겨울에 ...  \n",
       "15       건성 웜톤 모공 미백                수분감을 충분히 느낄수 있고부드럽게 잘 발려요온가족바르기 좋아요  \n",
       "16         복합성 웜톤 홍조                 에스트라 너무 좋아해요. ㅋㅋ크림만 쓰다 로션도 궁굼해서 구매  \n",
       "17      복합성 웜톤 각질 모공  일단 펌핑 타입이라 좋고 제형이 전형 적인 로션 타입 그런데 보습이 아주 짱짱해서 ...  \n",
       "18      복합성 쿨톤 각질 모공  에스트라 제품이 진짜 너무 좋아요 다 알아셔서 할 말이 없지만 몇 번째 재구매인지 뮬라여  \n",
       "19               NaN   늘 쓰는 좋아하는 제품인데 대용량이 나와서 너무 좋아용 애스트라 라로슈포제 꿀조합입니당  "
      ]
     },
     "execution_count": 23,
     "metadata": {},
     "output_type": "execute_result"
    }
   ],
   "source": [
    "import pandas as pd\n",
    "import numpy as np\n",
    "import matplotlib.pyplot as plt\n",
    "import seaborn as sns\n",
    "from konlpy.tag import Okt\n",
    "from sklearn.model_selection import train_test_split\n",
    "\n",
    "df = pd.read_csv('리뷰_정제완료_250212.csv.')\n",
    "df.head(20)"
   ]
  },
  {
   "cell_type": "code",
   "execution_count": 5,
   "metadata": {},
   "outputs": [
    {
     "data": {
      "text/html": [
       "<div>\n",
       "<style scoped>\n",
       "    .dataframe tbody tr th:only-of-type {\n",
       "        vertical-align: middle;\n",
       "    }\n",
       "\n",
       "    .dataframe tbody tr th {\n",
       "        vertical-align: top;\n",
       "    }\n",
       "\n",
       "    .dataframe thead th {\n",
       "        text-align: right;\n",
       "    }\n",
       "</style>\n",
       "<table border=\"1\" class=\"dataframe\">\n",
       "  <thead>\n",
       "    <tr style=\"text-align: right;\">\n",
       "      <th></th>\n",
       "      <th>카테고리</th>\n",
       "      <th>제품명</th>\n",
       "      <th>유저ID</th>\n",
       "      <th>평점</th>\n",
       "      <th>날짜</th>\n",
       "      <th>키워드</th>\n",
       "      <th>리뷰</th>\n",
       "    </tr>\n",
       "  </thead>\n",
       "  <tbody>\n",
       "  </tbody>\n",
       "</table>\n",
       "</div>"
      ],
      "text/plain": [
       "Empty DataFrame\n",
       "Columns: [카테고리, 제품명, 유저ID, 평점, 날짜, 키워드, 리뷰]\n",
       "Index: []"
      ]
     },
     "execution_count": 5,
     "metadata": {},
     "output_type": "execute_result"
    }
   ],
   "source": [
    "df[df['리뷰'] == ' ']"
   ]
  },
  {
   "cell_type": "markdown",
   "metadata": {},
   "source": [
    "### 딥러닝 모델 로드"
   ]
  },
  {
   "cell_type": "code",
   "execution_count": 10,
   "metadata": {},
   "outputs": [],
   "source": [
    "import re\n",
    "import numpy as np\n",
    "import tensorflow as tf\n",
    "from tensorflow.keras.preprocessing.sequence import pad_sequences\n",
    "from konlpy.tag import Okt\n",
    "import pickle\n",
    "\n",
    "max_len = 80\n",
    "okt = Okt()\n",
    "model_path = 'shopreviewnaver.keras'\n",
    "tokenizer_path = 'shopreviewnaver.pkl'\n",
    "\n",
    "loaded_model = tf.keras.models.load_model(model_path)\n",
    "\n",
    "with open(tokenizer_path, 'rb') as handle:\n",
    "    tokenizer = pickle.load(handle)"
   ]
  },
  {
   "cell_type": "markdown",
   "metadata": {},
   "source": [
    "감성분석용 함수 sentiment_predict_new\n",
    "- score는 '긍정' 리뷰가 될 확률을 의미합니다.\n",
    "- 매개변수는 '리뷰' 글 입니다. "
   ]
  },
  {
   "cell_type": "code",
   "execution_count": 17,
   "metadata": {},
   "outputs": [],
   "source": [
    "def sentiment_predict(new_sentence):\n",
    "    print(new_sentence)\n",
    "    new_sentence = re.sub(r'[^ㄱ-ㅎㅏ-ㅣ가-힣 ]','', new_sentence)\n",
    "    new_sentence = okt.morphs(new_sentence)\n",
    "    stopwords = ['도', '는', '다', '의', '가', '이', '은', '한', '에', '하', '고', '을', '를', '인', '듯', '과', '와', '네', '들', '듯', '지', '임', '게']\n",
    "    new_sentence = [word for word in new_sentence if not word in stopwords]\n",
    "    encoded = tokenizer.texts_to_sequences([new_sentence])\n",
    "    pad_new = pad_sequences(encoded, maxlen=max_len)\n",
    "\n",
    "    score = float(loaded_model.predict(pad_new))\n",
    "    print(score)\n",
    "    return score\n"
   ]
  },
  {
   "cell_type": "markdown",
   "metadata": {},
   "source": [
    "### 긍정인 리뷰 샘플 감성분석 테스트"
   ]
  },
  {
   "cell_type": "code",
   "execution_count": null,
   "metadata": {},
   "outputs": [
    {
     "name": "stdout",
     "output_type": "stream",
     "text": [
      "크림보다는 보습력은 떨어지지만 너무 라이트하지 않게 보습 충전해주는 것 같아요 순해서 사계절 내내 잘 사용하고 있습니다\n",
      "\u001b[1m1/1\u001b[0m \u001b[32m━━━━━━━━━━━━━━━━━━━━\u001b[0m\u001b[37m\u001b[0m \u001b[1m0s\u001b[0m 39ms/step\n",
      "0.9946209788322449\n",
      "건성분들한테 진짜 강력추천이요 순하고 촉촉하고 흡수도 빨라서 온 가족들이 다같이 사용합니다\n",
      "\u001b[1m1/1\u001b[0m \u001b[32m━━━━━━━━━━━━━━━━━━━━\u001b[0m\u001b[37m\u001b[0m \u001b[1m0s\u001b[0m 40ms/step\n",
      "0.9984909296035767\n",
      "좋아요 쟁임템이구 용량도 많은데 앵간한크림보다 보습력이 좋아용\n",
      "\u001b[1m1/1\u001b[0m \u001b[32m━━━━━━━━━━━━━━━━━━━━\u001b[0m\u001b[37m\u001b[0m \u001b[1m0s\u001b[0m 53ms/step\n"
     ]
    },
    {
     "name": "stderr",
     "output_type": "stream",
     "text": [
      "C:\\Users\\user\\AppData\\Local\\Temp\\ipykernel_15656\\2693802459.py:10: DeprecationWarning: Conversion of an array with ndim > 0 to a scalar is deprecated, and will error in future. Ensure you extract a single element from your array before performing this operation. (Deprecated NumPy 1.25.)\n",
      "  score = float(loaded_model.predict(pad_new))\n"
     ]
    },
    {
     "name": "stdout",
     "output_type": "stream",
     "text": [
      "0.9785622358322144\n",
      "피부과에서 받은뒤러 이 브랜드 로션만 10년째 쓰고 있어요 진짜 너무 좋습니다\n",
      "\u001b[1m1/1\u001b[0m \u001b[32m━━━━━━━━━━━━━━━━━━━━\u001b[0m\u001b[37m\u001b[0m \u001b[1m0s\u001b[0m 34ms/step\n",
      "0.9901058673858643\n",
      "수부지 기준 에스트라 크림은 부분적으로만 바르기에 좋은데 그냥 수딩크림들은 겨울에 건조해서 에스트라 로션으로 올겨울 정착! 너무 부담없고 무겁지 않아서 트러블 유발 안 하는데 속건조 싹 잡아줘요\n",
      "\u001b[1m1/1\u001b[0m \u001b[32m━━━━━━━━━━━━━━━━━━━━\u001b[0m\u001b[37m\u001b[0m \u001b[1m0s\u001b[0m 33ms/step\n",
      "0.996643602848053\n"
     ]
    }
   ],
   "source": [
    "for i in df['리뷰'][10:15]:\n",
    "    sentiment_predict(i)"
   ]
  },
  {
   "cell_type": "markdown",
   "metadata": {},
   "source": [
    "### 부정인 리뷰 샘플 감성분석 테스트"
   ]
  },
  {
   "cell_type": "code",
   "execution_count": null,
   "metadata": {},
   "outputs": [
    {
     "name": "stdout",
     "output_type": "stream",
     "text": [
      "민감성도 잘 사용할줄알았는데 따끔거림 이거보다 파랑색이 훨씬 괜찮았음..\n",
      "\u001b[1m1/1\u001b[0m \u001b[32m━━━━━━━━━━━━━━━━━━━━\u001b[0m\u001b[37m\u001b[0m \u001b[1m0s\u001b[0m 138ms/step\n",
      "0.07744581252336502\n",
      "예전에 피부과 진료 받고 피지오겔 제품을 썼었는데 되게 긍정적으로 생각한 제품입니다. 근데 여드름성 피부이고 제가 시어버터랑 잘 안 맞는데 친구가 이 제품은 시어버터가 안 들어간 제품이라 의심없이 샀어요. 손등에 테스트 해볼 때 약간 아리까리 하긴 했는데 일단 집에와서 발라봤어요. 발림성도 괜찮고 진정에 좋다고 해서 일단 바르고 잤는데 다음날 회사에서 히터도 안틀었는데 건조해 죽는줄 알았어요. 빨리 점심시간이 오길 바라며 바로 올영으로 달려가 기존에 바르던 테스터용 크림 덧발라줬네요.. 오죽하면 그랬을까요.. 제가 속건조가 있긴한데 기존 크림 쓸 땐 이렇진 않았거든요.. 제 피부에 안 맞는 거 같아요.. 두세번 쓰고 안 쓰고 놔두는데 아깝네요.. 근데 사은품으로 주는 이 팩은 좋은 거 같아요. 저는 개인적으로 크림 마스크팩이 잘 맞는 것 같아요.\n",
      "\u001b[1m1/1\u001b[0m \u001b[32m━━━━━━━━━━━━━━━━━━━━\u001b[0m\u001b[37m\u001b[0m \u001b[1m0s\u001b[0m 32ms/step\n",
      "0.44843319058418274\n",
      "다좋은데 불량품을 보내주셨네요 펌프가 배송중에 어디 부딪힌건지 박혀서  빠지지가 않아요 이미 뜯어버려서 그냥 씁니다\n",
      "\u001b[1m1/1\u001b[0m \u001b[32m━━━━━━━━━━━━━━━━━━━━\u001b[0m\u001b[37m\u001b[0m \u001b[1m0s\u001b[0m 30ms/step\n",
      "0.0013192729093134403\n",
      "제 피부에는 안 맞네요. 이것만 쓰면 얼굴이 빨갛게 뒤집어져요ㅠㅠㅠ\n",
      "\u001b[1m1/1\u001b[0m \u001b[32m━━━━━━━━━━━━━━━━━━━━\u001b[0m\u001b[37m\u001b[0m \u001b[1m0s\u001b[0m 19ms/step"
     ]
    },
    {
     "name": "stderr",
     "output_type": "stream",
     "text": [
      "C:\\Users\\pieta\\AppData\\Local\\Temp\\ipykernel_9248\\325134331.py:10: DeprecationWarning: Conversion of an array with ndim > 0 to a scalar is deprecated, and will error in future. Ensure you extract a single element from your array before performing this operation. (Deprecated NumPy 1.25.)\n",
      "  score = float(loaded_model.predict(pad_new))\n"
     ]
    },
    {
     "name": "stdout",
     "output_type": "stream",
     "text": [
      "\u001b[1m1/1\u001b[0m \u001b[32m━━━━━━━━━━━━━━━━━━━━\u001b[0m\u001b[37m\u001b[0m \u001b[1m0s\u001b[0m 32ms/step\n",
      "0.003132520942017436\n",
      "피부애 닿는 자극은 없는데 좀 사용하면 트러블 올라오는 거 같아요 촉촉한 로션\n",
      "\u001b[1m1/1\u001b[0m \u001b[32m━━━━━━━━━━━━━━━━━━━━\u001b[0m\u001b[37m\u001b[0m \u001b[1m0s\u001b[0m 31ms/step\n",
      "0.22877483069896698\n"
     ]
    }
   ],
   "source": [
    "test_df = df[df['평점'] == 2]\n",
    "for i in test_df['리뷰'][10:15]:\n",
    "    sentiment_predict(i)"
   ]
  },
  {
   "cell_type": "markdown",
   "metadata": {},
   "source": [
    "### 올리브영 리뷰 데이터 예측하기\n",
    "- entiment_predict_new 함수는 감성예측의 결과를 1부터 5점까지 분류하는 함수입니다. "
   ]
  },
  {
   "cell_type": "code",
   "execution_count": 4,
   "metadata": {},
   "outputs": [
    {
     "data": {
      "text/plain": [
       "평점\n",
       "5    189043\n",
       "4     26149\n",
       "3      7381\n",
       "2      1356\n",
       "1      1340\n",
       "Name: count, dtype: int64"
      ]
     },
     "execution_count": 4,
     "metadata": {},
     "output_type": "execute_result"
    }
   ],
   "source": [
    "b = pd.read_csv('리뷰_정제완료_250212.csv')\n",
    "b['평점'].value_counts()"
   ]
  },
  {
   "cell_type": "code",
   "execution_count": 22,
   "metadata": {},
   "outputs": [],
   "source": [
    "def sentiment_predict_new(new_sentence):\n",
    "    new_sentence = re.sub(r'[^ㄱ-ㅎㅏ-ㅣ가-힣 ]','', new_sentence)\n",
    "    new_sentence = okt.morphs(new_sentence)\n",
    "    stopwords = ['도', '는', '다', '의', '가', '이', '은', '한', '에', '하', '고', '을', '를', '인', '듯', '과', '와', '네', '들', '듯', '지', '임', '게']\n",
    "    new_sentence = [word for word in new_sentence if not word in stopwords]\n",
    "    encoded = tokenizer.texts_to_sequences([new_sentence])\n",
    "    pad_new = pad_sequences(encoded, maxlen=max_len)\n",
    "    score = float(loaded_model.predict(pad_new))\n",
    "\n",
    "    if score >= 0.95:\n",
    "        return 5 # 긍정이 될 확률이 90%이상인 리뷰만 평점 5점을 부여합니다. \n",
    "    elif score >= 0.80:\n",
    "        return 4 \n",
    "    elif score >= 0.65:\n",
    "        return 3\n",
    "    elif score >= 0.5:\n",
    "        return 2\n",
    "    else:\n",
    "        return 1 "
   ]
  },
  {
   "cell_type": "markdown",
   "metadata": {},
   "source": [
    "### 22만개 리뷰 감성점수 예측\n",
    "- 데이터의 갯수가 많기 때문에 작업을 병렬처리 합니다.\n",
    "- 매 1000개 작업 마다 파일을 백업합니다. "
   ]
  },
  {
   "cell_type": "code",
   "execution_count": null,
   "metadata": {},
   "outputs": [],
   "source": [
    "from joblib import Parallel, delayed\n",
    "from tqdm import tqdm\n",
    "import os\n",
    "\n",
    "output_file = \"PART2.csv\"\n",
    "\n",
    "if os.path.exists(output_file):\n",
    "    df_existing = pd.read_csv(output_file)\n",
    "    processed_count = len(df_existing.dropna(subset=[\"감성평점\"]))  #\n",
    "    print(f\"기존 파일 발견! {processed_count}개 데이터가 처리됨. 이어서 진행합니다.\")\n",
    "\n",
    "    # 기존 데이터 반영 (중복 실행 방지)\n",
    "    df.loc[:processed_count-1, \"감성평점\"] = df_existing[\"감성평점\"].values\n",
    "else:\n",
    "    processed_count = 0\n",
    "    df[\"감성평점\"] = None  # 감성평점 컬럼 추가\n",
    "    df.to_csv(output_file, index=False)  # ✅ 새로운 파일 생성\n",
    "    print(\"기존 파일 없음 → 새 파일 생성 완료!\")\n",
    "\n",
    "def safe_sentiment_predict(text):\n",
    "    try:\n",
    "        return sentiment_predict_new(text)\n",
    "    except Exception as e:\n",
    "        print(f\" Error processing: {text} | Error: {e}\")\n",
    "        return \"error\"\n",
    "\n",
    "# 1000개씩 병렬 처리 & 저장\n",
    "chunk_size = 1000  # 1000개씩 처리\n",
    "num_workers = 4  # CPU 4코어 사용\n",
    "\n",
    "for i in tqdm(range(processed_count, len(df), chunk_size), desc=\"Processing\"):\n",
    "    df_chunk = df.iloc[i:i + chunk_size].copy()\n",
    "\n",
    "    # 병렬 실행\n",
    "    df_chunk[\"감성평점\"] = Parallel(n_jobs=num_workers, backend=\"threading\", batch_size=500)(\n",
    "        delayed(safe_sentiment_predict)(text) for text in df_chunk[\"리뷰\"]\n",
    "    )\n",
    "\n",
    "    df.iloc[i:i + chunk_size] = df_chunk\n",
    "\n",
    "    df.to_csv(output_file, index=False)\n",
    "    print(f\" {i + chunk_size}개까지 저장 완료.\")\n",
    "\n"
   ]
  },
  {
   "cell_type": "code",
   "execution_count": 2,
   "metadata": {},
   "outputs": [
    {
     "data": {
      "text/plain": [
       "감성평점\n",
       "5    180160\n",
       "1     21015\n",
       "4     16042\n",
       "3      4846\n",
       "2      3206\n",
       "Name: count, dtype: int64"
      ]
     },
     "execution_count": 2,
     "metadata": {},
     "output_type": "execute_result"
    }
   ],
   "source": [
    "c = pd.read_csv('PART2.csv')\n",
    "c['감성평점'].value_counts()"
   ]
  },
  {
   "cell_type": "markdown",
   "metadata": {},
   "source": [
    "### 기존 사용자들이 매긴 실제 평점과 감성평점 비교"
   ]
  },
  {
   "cell_type": "code",
   "execution_count": 11,
   "metadata": {},
   "outputs": [
    {
     "data": {
      "image/png": "[encoded data removed]",
      "text/plain": [
       "<Figure size 1200x600 with 2 Axes>"
      ]
     },
     "metadata": {},
     "output_type": "display_data"
    }
   ],
   "source": [
    "\n",
    "# 평점 및 감성평점 데이터 개수 확인\n",
    "rating_counts = b['평점'].value_counts()\n",
    "sentiment_counts = c['감성평점'].value_counts()\n",
    "\n",
    "# 파이 차트 생성\n",
    "fig, axes = plt.subplots(1, 2, figsize=(12, 6))\n",
    "\n",
    "# 첫 번째 파이 차트 (평점)\n",
    "axes[0].pie(rating_counts, labels=rating_counts.index, autopct='%1.01f%%',pctdistance=0.85, startangle=90)\n",
    "axes[0].set_title('Original User Score')\n",
    "\n",
    "# 두 번째 파이 차트 (감성평점)\n",
    "axes[1].pie(sentiment_counts, labels=sentiment_counts.index, autopct='%1.0f%%',pctdistance=0.85, startangle=90)\n",
    "axes[1].set_title('Review DeepLearning predicted Score')\n",
    "\n",
    "# 레이아웃 조정 및 표시\n",
    "plt.tight_layout()\n",
    "plt.show()\n"
   ]
  },
  {
   "cell_type": "markdown",
   "metadata": {},
   "source": [
    "- 사용자가 직접 제출한 평점과 (1-5) GLU모델이 리뷰를 기반으로 예측한 감성점수는 대체적으로 약간의 차이가 존재합니다. \n",
    "- 원본과 예측 데이터 모두 5점의 비중이 약 80% 정도로 확인 되었고 나머지 점수 (1-4)들이 약20% 를 차지하고 있습니다. \n",
    "- 실제 사용자 평점과 리뷰감성이 일치하는 수준이라고 볼 수 있겠다. \n",
    "- 문맥, 어조, 뉘앙스를 분석한 딥러닝모델의 예측 결과가 더 신빙성있다고 판단됩니다. \n",
    "- 감성평점을 활용하여 추천시스템을 설정합니다. "
   ]
  },
  {
   "cell_type": "markdown",
   "metadata": {},
   "source": [
    "## 2. 협업 필터링 (사용자 맞춤 추천 시스템)\n",
    "** Feature (입력 변수)**  \n",
    "- 사용자 ID  \n",
    "- 제품 ID  \n",
    "- 평점 (Rating)  \n",
    "\n",
    "** 모델**  \n",
    "- Surprise 라이브러리의 **SVD**  \n",
    "- KNN-based **Collaborative Filtering**  \n",
    "\n",
    "** 활용 목표**  \n",
    "- 특정 사용자에게 적절한 제품을 추천하는 시스템 구축  \n",
    "- 사용자 맞춤형 마케팅 적용  "
   ]
  },
  {
   "cell_type": "markdown",
   "metadata": {},
   "source": [
    "- 데이터 로드 및 확인"
   ]
  },
  {
   "cell_type": "code",
   "execution_count": 189,
   "metadata": {},
   "outputs": [
    {
     "name": "stdout",
     "output_type": "stream",
     "text": [
      "<class 'pandas.core.frame.DataFrame'>\n",
      "RangeIndex: 225269 entries, 0 to 225268\n",
      "Data columns (total 8 columns):\n",
      " #   Column  Non-Null Count   Dtype \n",
      "---  ------  --------------   ----- \n",
      " 0   카테고리    225269 non-null  object\n",
      " 1   제품명     225269 non-null  object\n",
      " 2   유저ID    225269 non-null  object\n",
      " 3   평점      225269 non-null  int64 \n",
      " 4   날짜      225269 non-null  object\n",
      " 5   키워드     124947 non-null  object\n",
      " 6   리뷰      225269 non-null  object\n",
      " 7   감성평점    225269 non-null  int64 \n",
      "dtypes: int64(2), object(6)\n",
      "memory usage: 13.7+ MB\n"
     ]
    }
   ],
   "source": [
    "\n",
    "df = pd.read_csv('PART2.csv')\n",
    "df.info()"
   ]
  },
  {
   "cell_type": "markdown",
   "metadata": {},
   "source": [
    "- 협업필터링에 필요한 열만 남기기"
   ]
  },
  {
   "cell_type": "code",
   "execution_count": 190,
   "metadata": {},
   "outputs": [
    {
     "name": "stdout",
     "output_type": "stream",
     "text": [
      "<class 'pandas.core.frame.DataFrame'>\n",
      "RangeIndex: 225269 entries, 0 to 225268\n",
      "Data columns (total 3 columns):\n",
      " #   Column  Non-Null Count   Dtype \n",
      "---  ------  --------------   ----- \n",
      " 0   유저ID    225269 non-null  object\n",
      " 1   제품명     225269 non-null  object\n",
      " 2   감성평점    225269 non-null  int64 \n",
      "dtypes: int64(1), object(2)\n",
      "memory usage: 5.2+ MB\n"
     ]
    }
   ],
   "source": [
    "df=df[['유저ID','제품명','감성평점']]\n",
    "df.info()"
   ]
  },
  {
   "cell_type": "markdown",
   "metadata": {},
   "source": [
    "- 유저 아이디 정제: 특수기호 '*' 제거 \n",
    "- 실제 유저 아이디를 확인 할 수 없기 때문에 문자가 암호화된 특수기호 '*' 는 제거합니다.\n",
    "- 올리브영의 일반 유저 ID에는 특수기호가 존재할 수 없습니다. "
   ]
  },
  {
   "cell_type": "code",
   "execution_count": 191,
   "metadata": {},
   "outputs": [],
   "source": [
    "def user_id(data):\n",
    "  if data[-4:] == \"****\":\n",
    "    return data[:-4]\n",
    "  else:\n",
    "    return data\n",
    "df['유저ID'] = df['유저ID'].apply(user_id)"
   ]
  },
  {
   "cell_type": "markdown",
   "metadata": {},
   "source": [
    "### 감성평점의 평점비"
   ]
  },
  {
   "cell_type": "code",
   "execution_count": 192,
   "metadata": {},
   "outputs": [
    {
     "data": {
      "image/png": "[encoded data removed]",
      "text/plain": [
       "<Figure size 800x800 with 1 Axes>"
      ]
     },
     "metadata": {},
     "output_type": "display_data"
    }
   ],
   "source": [
    "import matplotlib.pyplot as plt\n",
    "\n",
    "rating_counts = df['감성평점'].value_counts()\n",
    "\n",
    "plt.figure(figsize=(8, 8)) \n",
    "plt.pie(rating_counts, labels=rating_counts.index, colors=['#ff9999','#66b3ff','#99ff99','#ffcc99','#c2c2f0'], startangle=90)\n",
    "\n",
    "plt.show()"
   ]
  },
  {
   "cell_type": "markdown",
   "metadata": {},
   "source": [
    "### 유저ID, 제품명 인코딩"
   ]
  },
  {
   "cell_type": "code",
   "execution_count": 193,
   "metadata": {},
   "outputs": [],
   "source": [
    "from sklearn.preprocessing import StandardScaler, LabelEncoder\n",
    "label_encoder = LabelEncoder()\n",
    "df['유저ID'] = label_encoder.fit_transform(df['유저ID'])\n",
    "\n",
    "label_encoder_product = LabelEncoder()\n",
    "df['제품명'] = label_encoder_product.fit_transform(df['제품명'])"
   ]
  },
  {
   "cell_type": "code",
   "execution_count": 194,
   "metadata": {},
   "outputs": [
    {
     "data": {
      "text/html": [
       "<div>\n",
       "<style scoped>\n",
       "    .dataframe tbody tr th:only-of-type {\n",
       "        vertical-align: middle;\n",
       "    }\n",
       "\n",
       "    .dataframe tbody tr th {\n",
       "        vertical-align: top;\n",
       "    }\n",
       "\n",
       "    .dataframe thead th {\n",
       "        text-align: right;\n",
       "    }\n",
       "</style>\n",
       "<table border=\"1\" class=\"dataframe\">\n",
       "  <thead>\n",
       "    <tr style=\"text-align: right;\">\n",
       "      <th></th>\n",
       "      <th>label</th>\n",
       "      <th>code</th>\n",
       "    </tr>\n",
       "  </thead>\n",
       "  <tbody>\n",
       "    <tr>\n",
       "      <th>0</th>\n",
       "      <td>0</td>\n",
       "      <td>0</td>\n",
       "    </tr>\n",
       "    <tr>\n",
       "      <th>1</th>\n",
       "      <td>0.00E+00</td>\n",
       "      <td>1</td>\n",
       "    </tr>\n",
       "    <tr>\n",
       "      <th>2</th>\n",
       "      <td>00</td>\n",
       "      <td>2</td>\n",
       "    </tr>\n",
       "    <tr>\n",
       "      <th>3</th>\n",
       "      <td>000</td>\n",
       "      <td>3</td>\n",
       "    </tr>\n",
       "    <tr>\n",
       "      <th>4</th>\n",
       "      <td>00000000</td>\n",
       "      <td>4</td>\n",
       "    </tr>\n",
       "    <tr>\n",
       "      <th>...</th>\n",
       "      <td>...</td>\n",
       "      <td>...</td>\n",
       "    </tr>\n",
       "    <tr>\n",
       "      <th>65913</th>\n",
       "      <td>힝꾸꾸</td>\n",
       "      <td>65913</td>\n",
       "    </tr>\n",
       "    <tr>\n",
       "      <th>65914</th>\n",
       "      <td>힝소</td>\n",
       "      <td>65914</td>\n",
       "    </tr>\n",
       "    <tr>\n",
       "      <th>65915</th>\n",
       "      <td>힝아미</td>\n",
       "      <td>65915</td>\n",
       "    </tr>\n",
       "    <tr>\n",
       "      <th>65916</th>\n",
       "      <td>힝이2</td>\n",
       "      <td>65916</td>\n",
       "    </tr>\n",
       "    <tr>\n",
       "      <th>65917</th>\n",
       "      <td>힝힁헹헝홍</td>\n",
       "      <td>65917</td>\n",
       "    </tr>\n",
       "  </tbody>\n",
       "</table>\n",
       "<p>65918 rows × 2 columns</p>\n",
       "</div>"
      ],
      "text/plain": [
       "          label   code\n",
       "0             0      0\n",
       "1      0.00E+00      1\n",
       "2            00      2\n",
       "3           000      3\n",
       "4      00000000      4\n",
       "...         ...    ...\n",
       "65913       힝꾸꾸  65913\n",
       "65914        힝소  65914\n",
       "65915       힝아미  65915\n",
       "65916       힝이2  65916\n",
       "65917     힝힁헹헝홍  65917\n",
       "\n",
       "[65918 rows x 2 columns]"
      ]
     },
     "execution_count": 194,
     "metadata": {},
     "output_type": "execute_result"
    }
   ],
   "source": [
    "# 각 유저 ID 레이블의 코드 정보\n",
    "code_table_user = pd.DataFrame({'label': label_encoder.classes_,\n",
    "                           'code': range(len(label_encoder.classes_))})\n",
    "code_table_user"
   ]
  },
  {
   "cell_type": "code",
   "execution_count": 195,
   "metadata": {},
   "outputs": [
    {
     "data": {
      "text/html": [
       "<div>\n",
       "<style scoped>\n",
       "    .dataframe tbody tr th:only-of-type {\n",
       "        vertical-align: middle;\n",
       "    }\n",
       "\n",
       "    .dataframe tbody tr th {\n",
       "        vertical-align: top;\n",
       "    }\n",
       "\n",
       "    .dataframe thead th {\n",
       "        text-align: right;\n",
       "    }\n",
       "</style>\n",
       "<table border=\"1\" class=\"dataframe\">\n",
       "  <thead>\n",
       "    <tr style=\"text-align: right;\">\n",
       "      <th></th>\n",
       "      <th>label</th>\n",
       "      <th>code</th>\n",
       "    </tr>\n",
       "  </thead>\n",
       "  <tbody>\n",
       "    <tr>\n",
       "      <th>0</th>\n",
       "      <td>AGE20S 화잘먹 스킨핏 수분볼륨 선크림 플러스 50ml*2</td>\n",
       "      <td>0</td>\n",
       "    </tr>\n",
       "    <tr>\n",
       "      <th>1</th>\n",
       "      <td>AHC 누드 톤업 크림 내추럴 글로우 40ml SPF50+ PA++++</td>\n",
       "      <td>1</td>\n",
       "    </tr>\n",
       "    <tr>\n",
       "      <th>2</th>\n",
       "      <td>AHC 마스터즈 멜라프로텍트 워터풀 선크림 40ml</td>\n",
       "      <td>2</td>\n",
       "    </tr>\n",
       "    <tr>\n",
       "      <th>3</th>\n",
       "      <td>AHC 마스터즈 아쿠아 리치 선크림 1+1 기획</td>\n",
       "      <td>3</td>\n",
       "    </tr>\n",
       "    <tr>\n",
       "      <th>4</th>\n",
       "      <td>AHC 마이크로 레드 착붙 콜라겐 마스크 시트 1매</td>\n",
       "      <td>4</td>\n",
       "    </tr>\n",
       "    <tr>\n",
       "      <th>...</th>\n",
       "      <td>...</td>\n",
       "      <td>...</td>\n",
       "    </tr>\n",
       "    <tr>\n",
       "      <th>3081</th>\n",
       "      <td>휩드 비건 팩클렌저 튜브형 130g</td>\n",
       "      <td>3081</td>\n",
       "    </tr>\n",
       "    <tr>\n",
       "      <th>3082</th>\n",
       "      <td>휩드 유자몽 비건 팩클렌저 80g 기획</td>\n",
       "      <td>3082</td>\n",
       "    </tr>\n",
       "    <tr>\n",
       "      <th>3083</th>\n",
       "      <td>휴캄 수분결 토너 패드 90매</td>\n",
       "      <td>3083</td>\n",
       "    </tr>\n",
       "    <tr>\n",
       "      <th>3084</th>\n",
       "      <td>휴캄 킨츠키 탄력 크림 70g</td>\n",
       "      <td>3084</td>\n",
       "    </tr>\n",
       "    <tr>\n",
       "      <th>3085</th>\n",
       "      <td>히야 퍼펙트 레이어링 선로션 40ml</td>\n",
       "      <td>3085</td>\n",
       "    </tr>\n",
       "  </tbody>\n",
       "</table>\n",
       "<p>3086 rows × 2 columns</p>\n",
       "</div>"
      ],
      "text/plain": [
       "                                        label  code\n",
       "0          AGE20S 화잘먹 스킨핏 수분볼륨 선크림 플러스 50ml*2     0\n",
       "1     AHC 누드 톤업 크림 내추럴 글로우 40ml SPF50+ PA++++     1\n",
       "2                AHC 마스터즈 멜라프로텍트 워터풀 선크림 40ml     2\n",
       "3                  AHC 마스터즈 아쿠아 리치 선크림 1+1 기획     3\n",
       "4                AHC 마이크로 레드 착붙 콜라겐 마스크 시트 1매     4\n",
       "...                                       ...   ...\n",
       "3081                      휩드 비건 팩클렌저 튜브형 130g  3081\n",
       "3082                    휩드 유자몽 비건 팩클렌저 80g 기획  3082\n",
       "3083                         휴캄 수분결 토너 패드 90매  3083\n",
       "3084                         휴캄 킨츠키 탄력 크림 70g  3084\n",
       "3085                     히야 퍼펙트 레이어링 선로션 40ml  3085\n",
       "\n",
       "[3086 rows x 2 columns]"
      ]
     },
     "execution_count": 195,
     "metadata": {},
     "output_type": "execute_result"
    }
   ],
   "source": [
    "# 각 제품 레이블의 코드 정보\n",
    "code_table_product = pd.DataFrame({'label': label_encoder_product.classes_,\n",
    "                           'code': range(len(label_encoder_product.classes_))})\n",
    "code_table_product"
   ]
  },
  {
   "cell_type": "markdown",
   "metadata": {},
   "source": [
    "### 데이터 구성\n",
    "- '유저ID' (65918)\n",
    "- '제품명' (3086)\n",
    "- '평점' (1,2,3,4,5)"
   ]
  },
  {
   "cell_type": "markdown",
   "metadata": {},
   "source": [
    "#### 감성평점 정규화\n",
    "- 5점의 비율이 너무 높으므로 대부분의 예측값이 5점으로 몰려 추천 시스템이 차이를 구분하지 못할 수 있다. \n",
    "- 모델이 1~5점 전체 범위를 더 균일하게 인식하도록 정규화 진행."
   ]
  },
  {
   "cell_type": "code",
   "execution_count": 196,
   "metadata": {},
   "outputs": [],
   "source": [
    "from sklearn.preprocessing import MinMaxScaler\n",
    "\n",
    "scaler = MinMaxScaler()\n",
    "\n",
    "# 감성평점 정규화 적용 (0~1 범위로 변환)\n",
    "df['감성평점_정규화'] = scaler.fit_transform(df[['감성평점']])"
   ]
  },
  {
   "cell_type": "code",
   "execution_count": 197,
   "metadata": {},
   "outputs": [
    {
     "data": {
      "text/html": [
       "<div>\n",
       "<style scoped>\n",
       "    .dataframe tbody tr th:only-of-type {\n",
       "        vertical-align: middle;\n",
       "    }\n",
       "\n",
       "    .dataframe tbody tr th {\n",
       "        vertical-align: top;\n",
       "    }\n",
       "\n",
       "    .dataframe thead th {\n",
       "        text-align: right;\n",
       "    }\n",
       "</style>\n",
       "<table border=\"1\" class=\"dataframe\">\n",
       "  <thead>\n",
       "    <tr style=\"text-align: right;\">\n",
       "      <th></th>\n",
       "      <th>유저ID</th>\n",
       "      <th>제품명</th>\n",
       "      <th>감성평점</th>\n",
       "      <th>감성평점_정규화</th>\n",
       "    </tr>\n",
       "  </thead>\n",
       "  <tbody>\n",
       "    <tr>\n",
       "      <th>0</th>\n",
       "      <td>42400</td>\n",
       "      <td>2163</td>\n",
       "      <td>5</td>\n",
       "      <td>1.00</td>\n",
       "    </tr>\n",
       "    <tr>\n",
       "      <th>1</th>\n",
       "      <td>42539</td>\n",
       "      <td>2163</td>\n",
       "      <td>5</td>\n",
       "      <td>1.00</td>\n",
       "    </tr>\n",
       "    <tr>\n",
       "      <th>2</th>\n",
       "      <td>62695</td>\n",
       "      <td>2163</td>\n",
       "      <td>4</td>\n",
       "      <td>0.75</td>\n",
       "    </tr>\n",
       "    <tr>\n",
       "      <th>3</th>\n",
       "      <td>37497</td>\n",
       "      <td>2163</td>\n",
       "      <td>1</td>\n",
       "      <td>0.00</td>\n",
       "    </tr>\n",
       "    <tr>\n",
       "      <th>4</th>\n",
       "      <td>42539</td>\n",
       "      <td>2163</td>\n",
       "      <td>1</td>\n",
       "      <td>0.00</td>\n",
       "    </tr>\n",
       "    <tr>\n",
       "      <th>...</th>\n",
       "      <td>...</td>\n",
       "      <td>...</td>\n",
       "      <td>...</td>\n",
       "      <td>...</td>\n",
       "    </tr>\n",
       "    <tr>\n",
       "      <th>225264</th>\n",
       "      <td>5360</td>\n",
       "      <td>136</td>\n",
       "      <td>5</td>\n",
       "      <td>1.00</td>\n",
       "    </tr>\n",
       "    <tr>\n",
       "      <th>225265</th>\n",
       "      <td>46284</td>\n",
       "      <td>136</td>\n",
       "      <td>5</td>\n",
       "      <td>1.00</td>\n",
       "    </tr>\n",
       "    <tr>\n",
       "      <th>225266</th>\n",
       "      <td>13787</td>\n",
       "      <td>136</td>\n",
       "      <td>5</td>\n",
       "      <td>1.00</td>\n",
       "    </tr>\n",
       "    <tr>\n",
       "      <th>225267</th>\n",
       "      <td>14974</td>\n",
       "      <td>136</td>\n",
       "      <td>2</td>\n",
       "      <td>0.25</td>\n",
       "    </tr>\n",
       "    <tr>\n",
       "      <th>225268</th>\n",
       "      <td>19211</td>\n",
       "      <td>136</td>\n",
       "      <td>5</td>\n",
       "      <td>1.00</td>\n",
       "    </tr>\n",
       "  </tbody>\n",
       "</table>\n",
       "<p>225269 rows × 4 columns</p>\n",
       "</div>"
      ],
      "text/plain": [
       "         유저ID   제품명  감성평점  감성평점_정규화\n",
       "0       42400  2163     5      1.00\n",
       "1       42539  2163     5      1.00\n",
       "2       62695  2163     4      0.75\n",
       "3       37497  2163     1      0.00\n",
       "4       42539  2163     1      0.00\n",
       "...       ...   ...   ...       ...\n",
       "225264   5360   136     5      1.00\n",
       "225265  46284   136     5      1.00\n",
       "225266  13787   136     5      1.00\n",
       "225267  14974   136     2      0.25\n",
       "225268  19211   136     5      1.00\n",
       "\n",
       "[225269 rows x 4 columns]"
      ]
     },
     "execution_count": 197,
     "metadata": {},
     "output_type": "execute_result"
    }
   ],
   "source": [
    "df"
   ]
  },
  {
   "cell_type": "code",
   "execution_count": 199,
   "metadata": {},
   "outputs": [],
   "source": [
    "from surprise import Dataset\n",
    "# 평점 범위 지정\n",
    "reader = Reader(rating_scale=(0, 1))\n",
    "\n",
    "# DataFrame을 Surprise Dataset으로 변환\n",
    "data = Dataset.load_from_df(df[['유저ID', '제품명', '감성평점_정규화']], reader)"
   ]
  },
  {
   "cell_type": "markdown",
   "metadata": {},
   "source": [
    "#### 데이터 나누기\n",
    "- 이제, 모델훈련 후 추천시스템 구성"
   ]
  },
  {
   "cell_type": "code",
   "execution_count": 200,
   "metadata": {},
   "outputs": [],
   "source": [
    "from surprise import SVD\n",
    "from surprise.model_selection import train_test_split\n",
    "from surprise import accuracy\n",
    "\n",
    "trainset, testset = train_test_split(data, test_size=0.2, random_state=1)"
   ]
  },
  {
   "cell_type": "markdown",
   "metadata": {},
   "source": [
    "### 알고리즘 선택과 학습\n",
    "- test() 모든 검증 데이터에 대한 평점 예측\n",
    "- predict() 하나의 사용자와 아이템에 대한 예측"
   ]
  },
  {
   "cell_type": "code",
   "execution_count": 201,
   "metadata": {},
   "outputs": [
    {
     "name": "stdout",
     "output_type": "stream",
     "text": [
      "RMSE: 0.3008\n"
     ]
    }
   ],
   "source": [
    "# 알고리즘 선택 및 학습 (SVD 사용)\n",
    "algo = SVD()\n",
    "algo.fit(trainset)\n",
    "\n",
    "# 테스트셋에 대한 예측 및 성능 평가\n",
    "pred = algo.test(testset) # 예측\n",
    "rmse = accuracy.rmse(pred) # 평가"
   ]
  },
  {
   "cell_type": "markdown",
   "metadata": {},
   "source": [
    "- 학습된 SVD모델은 평점예측의 편차 평균이 약 0.30로 준수한 성적을 보임"
   ]
  },
  {
   "cell_type": "code",
   "execution_count": 202,
   "metadata": {},
   "outputs": [
    {
     "name": "stdout",
     "output_type": "stream",
     "text": [
      "Evaluating RMSE, MAE of algorithm SVD on 5 split(s).\n",
      "\n",
      "                  Fold 1  Fold 2  Fold 3  Fold 4  Fold 5  Mean    Std     \n",
      "RMSE (testset)    0.2997  0.2997  0.3041  0.2977  0.3015  0.3005  0.0021  \n",
      "MAE (testset)     0.1981  0.1978  0.2002  0.1967  0.1985  0.1983  0.0011  \n",
      "Fit time          2.18    2.04    2.14    2.13    2.18    2.13    0.05    \n",
      "Test time         0.40    0.18    0.39    0.19    0.22    0.27    0.10    \n"
     ]
    },
    {
     "data": {
      "text/plain": [
       "{'test_rmse': array([0.29969364, 0.29972431, 0.30408163, 0.29772704, 0.30150534]),\n",
       " 'test_mae': array([0.19808734, 0.19779244, 0.20021308, 0.19669713, 0.1984871 ]),\n",
       " 'fit_time': (2.180140972137451,\n",
       "  2.0355818271636963,\n",
       "  2.1382808685302734,\n",
       "  2.1312999725341797,\n",
       "  2.1821632385253906),\n",
       " 'test_time': (0.40192365646362305,\n",
       "  0.17552685737609863,\n",
       "  0.38596558570861816,\n",
       "  0.18649983406066895,\n",
       "  0.21841645240783691)}"
      ]
     },
     "execution_count": 202,
     "metadata": {},
     "output_type": "execute_result"
    }
   ],
   "source": [
    "from surprise.model_selection import cross_validate\n",
    "cross_validate(algo, data, measures=['RMSE', 'MAE'], cv=5, verbose=True)"
   ]
  },
  {
   "cell_type": "markdown",
   "metadata": {},
   "source": [
    "### Baseline알고리즘 테스트"
   ]
  },
  {
   "cell_type": "code",
   "execution_count": 67,
   "metadata": {},
   "outputs": [
    {
     "name": "stdout",
     "output_type": "stream",
     "text": [
      "\n",
      "=== BaselineOnly ===\n",
      "Estimating biases using als...\n",
      "Estimating biases using als...\n",
      "Estimating biases using als...\n",
      "Estimating biases using als...\n",
      "Estimating biases using als...\n",
      "Evaluating RMSE, MAE of algorithm BaselineOnly on 5 split(s).\n",
      "\n",
      "                  Fold 1  Fold 2  Fold 3  Fold 4  Fold 5  Mean    Std     \n",
      "RMSE (testset)    0.3322  0.3341  0.3351  0.3321  0.3334  0.3334  0.0011  \n",
      "MAE (testset)     0.1316  0.1333  0.1337  0.1319  0.1330  0.1327  0.0008  \n",
      "Fit time          0.70    0.76    0.75    0.80    0.75    0.75    0.03    \n",
      "Test time         0.12    0.13    0.11    0.13    0.12    0.12    0.01    \n",
      "BaselineOnly mean RMSE: 0.3334, mean MAE: 0.1327\n"
     ]
    }
   ],
   "source": [
    "from surprise import BaselineOnly\n",
    "# BaselineOnly 알고리즘 교차 검증\n",
    "print(\"\\n=== BaselineOnly ===\")\n",
    "base = BaselineOnly()  # 기본 파라미터로 BaselineOnly 알고리즘 사용\n",
    "base_results = cross_validate(base, data, measures=['RMSE', 'MAE'], cv=5, verbose=True)\n",
    "print(f\"BaselineOnly mean RMSE: {sum(base_results['test_rmse'])/5:.4f}, mean MAE: {sum(base_results['test_mae'])/5:.4f}\")"
   ]
  },
  {
   "cell_type": "markdown",
   "metadata": {},
   "source": [
    "### SVD 하이퍼파라미터 튜닝을 진행.\n",
    "- 반복학습 횟수와 잠재요인 n_factors 갯수를 조정하여 최적의 성능을 이끌어내기 위한 시도를 해보기"
   ]
  },
  {
   "cell_type": "code",
   "execution_count": 203,
   "metadata": {},
   "outputs": [
    {
     "name": "stdout",
     "output_type": "stream",
     "text": [
      "0.2992522472204942\n",
      "{'n_epochs': 40, 'n_factors': 50}\n"
     ]
    }
   ],
   "source": [
    "from surprise.model_selection import GridSearchCV\n",
    "\n",
    "# 최적화할 파라미터들을 딕셔너리 형태로 지정.\n",
    "param_grid = {'n_epochs': [20, 40, 60], 'n_factors':[50, 100, 200]}\n",
    "                #에포크 학습 반복.        svd 잠재요인\n",
    "# CV를 3개 폴드 세트로 지정, 성능 평가는 rmse, mse 로 수행 하도록 GridSearchCV 구성\n",
    "gs = GridSearchCV(SVD, param_grid, measures=['rmse'], cv=3)\n",
    "gs.fit(data)\n",
    "# 최고 RMSE Evaluation 점수와 그때의 하이퍼 파라미터\n",
    "print(gs.best_score['rmse'])\n",
    "print(gs.best_params['rmse'])"
   ]
  },
  {
   "cell_type": "markdown",
   "metadata": {},
   "source": [
    "|알고리즘|RMSE | MAE |\n",
    "|-|-|-|\n",
    "|SVD| 0.3005| 0.1378|\n",
    "|BaselineOnly |0.3334 |0.1327 |\n",
    "|SVD_튜닝|0.2992||"
   ]
  },
  {
   "cell_type": "markdown",
   "metadata": {},
   "source": [
    "- SVD 튜닝으로 성능향상을 보이므로 최적의 파라미터로 재학습 "
   ]
  },
  {
   "cell_type": "code",
   "execution_count": 204,
   "metadata": {},
   "outputs": [
    {
     "data": {
      "text/plain": [
       "<surprise.prediction_algorithms.matrix_factorization.SVD at 0x1e7ea967a00>"
      ]
     },
     "execution_count": 204,
     "metadata": {},
     "output_type": "execute_result"
    }
   ],
   "source": [
    "best_p = gs.best_params['rmse']\n",
    "trainset = data.build_full_trainset()\n",
    "algo = SVD(n_epochs=best_p['n_epochs'], n_factors=best_p['n_factors'])\n",
    "algo.fit(trainset)"
   ]
  },
  {
   "cell_type": "markdown",
   "metadata": {},
   "source": [
    "- 테스트 할 유저를 랜덤으로 선별"
   ]
  },
  {
   "cell_type": "code",
   "execution_count": 223,
   "metadata": {},
   "outputs": [
    {
     "name": "stdout",
     "output_type": "stream",
     "text": [
      "kdb98****\n",
      "HEEGO\n",
      "rlaao****\n",
      "하오미노\n",
      "Yenny\n"
     ]
    }
   ],
   "source": [
    "import random\n",
    "random_user_list = random.sample(range(len(b)), 5) # 랜덤으로 인덱스를 5개 추출\n",
    "\n",
    "for i in random_user_list:\n",
    "\n",
    "    print(b['유저ID'][i])"
   ]
  },
  {
   "cell_type": "code",
   "execution_count": 208,
   "metadata": {},
   "outputs": [],
   "source": [
    "import numpy as np\n",
    "def recommend_products(algo, user_id, code_table_user, code_table_product, df):\n",
    "    # 유저 ID 마스킹 해제\n",
    "    if user_id[-4:] == \"****\":\n",
    "        user_id =  user_id[:-4]\n",
    "\n",
    "    # 유저 코드 찾기\n",
    "    user_code = code_table_user.loc[code_table_user['label'] == user_id, 'code'].values[0]\n",
    "\n",
    "    # 유저가 이미 구매한 제품 리스트 가져오기\n",
    "    purchased_products = df[df['유저ID'] == user_id]['제품명'].unique()\n",
    "\n",
    "    # 추천 대상이 될 \"구매한 적 없는 제품\"만 필터링\n",
    "    candidate_products = code_table_product[~code_table_product['label'].isin(purchased_products)]\n",
    "    \n",
    "    # 추천을 위한 제품 코드 목록\n",
    "    candidate_product_codes = candidate_products['code'].values\n",
    "\n",
    "    predictions = []\n",
    "\n",
    "    # 후보 제품들에 대해 예측 평점 계산\n",
    "    for product_code in candidate_product_codes:\n",
    "        pred_rating = algo.predict(user_code, product_code).est\n",
    "\n",
    "        # Min-Max 역변환: 0~1 → 1~5\n",
    "        pred_rating = pred_rating * 4 + 1\n",
    "\n",
    "        predictions.append((product_code, pred_rating))\n",
    "\n",
    "    # 예측 결과를 DataFrame으로 변환\n",
    "    pred_df = pd.DataFrame(predictions, columns=['product_code', 'predicted_rating'])\n",
    "\n",
    "    # 제품 코드 -> 제품명 매핑\n",
    "    pred_df = pred_df.merge(code_table_product[['code', 'label']], how='left', left_on='product_code', right_on='code')\n",
    "\n",
    "    # 예측 평점 기준 상위 20개 제품 선정\n",
    "    top20_products = pred_df.sort_values(by='predicted_rating', ascending=False).head(20)\n",
    "    # 순위 부여\n",
    "    top20_products['rank'] = top20_products['predicted_rating'].rank(method='first', ascending=False).astype(int)\n",
    "\n",
    "    return top20_products[['rank', 'label', 'predicted_rating']]\n",
    "\n",
    "\n",
    "# 예시 사용:\n",
    "# algo: 학습된 SVD 모델\n",
    "# user_id: 추천을 받을 실제 유저 ID\n",
    "# code_table_user: label 열(실제 유저 ID), code 열(인코딩된 유저 코드)\n",
    "# code_table_product: label 열(실제 제품명), code 열(인코딩된 제품 코드)"
   ]
  },
  {
   "cell_type": "code",
   "execution_count": 224,
   "metadata": {},
   "outputs": [
    {
     "data": {
      "text/html": [
       "<div>\n",
       "<style scoped>\n",
       "    .dataframe tbody tr th:only-of-type {\n",
       "        vertical-align: middle;\n",
       "    }\n",
       "\n",
       "    .dataframe tbody tr th {\n",
       "        vertical-align: top;\n",
       "    }\n",
       "\n",
       "    .dataframe thead th {\n",
       "        text-align: right;\n",
       "    }\n",
       "</style>\n",
       "<table border=\"1\" class=\"dataframe\">\n",
       "  <thead>\n",
       "    <tr style=\"text-align: right;\">\n",
       "      <th></th>\n",
       "      <th>rank</th>\n",
       "      <th>label</th>\n",
       "      <th>predicted_rating</th>\n",
       "    </tr>\n",
       "  </thead>\n",
       "  <tbody>\n",
       "    <tr>\n",
       "      <th>982</th>\n",
       "      <td>1</td>\n",
       "      <td>맥스클리닉 포어리스 딥 클렌징폼 150g</td>\n",
       "      <td>5.000000</td>\n",
       "    </tr>\n",
       "    <tr>\n",
       "      <th>494</th>\n",
       "      <td>2</td>\n",
       "      <td>더마라인 디렉소 PDRN 솔루션 액티빙 토너 200ml</td>\n",
       "      <td>5.000000</td>\n",
       "    </tr>\n",
       "    <tr>\n",
       "      <th>2801</th>\n",
       "      <td>3</td>\n",
       "      <td>파이코어 디퍼런씨 블루바이옴 리페어 선크림 40ml</td>\n",
       "      <td>4.948761</td>\n",
       "    </tr>\n",
       "    <tr>\n",
       "      <th>29</th>\n",
       "      <td>4</td>\n",
       "      <td>AHC 허브솔루션 레몬 토너 500ml</td>\n",
       "      <td>4.939521</td>\n",
       "    </tr>\n",
       "    <tr>\n",
       "      <th>2454</th>\n",
       "      <td>5</td>\n",
       "      <td>잇츠스킨 파워 10 포뮬라 엘아이 이펙터 감초줄렌 60ml</td>\n",
       "      <td>4.932256</td>\n",
       "    </tr>\n",
       "    <tr>\n",
       "      <th>487</th>\n",
       "      <td>6</td>\n",
       "      <td>더랩바이블랑두 저분자 히알루론산 딥 토너 리필캔 238ml</td>\n",
       "      <td>4.931922</td>\n",
       "    </tr>\n",
       "    <tr>\n",
       "      <th>1996</th>\n",
       "      <td>7</td>\n",
       "      <td>아이오페 맨 컴파운드 선스크린 50ml</td>\n",
       "      <td>4.930895</td>\n",
       "    </tr>\n",
       "    <tr>\n",
       "      <th>3045</th>\n",
       "      <td>8</td>\n",
       "      <td>헤라 하이드로 리플렉팅 토너 170ml</td>\n",
       "      <td>4.893888</td>\n",
       "    </tr>\n",
       "    <tr>\n",
       "      <th>59</th>\n",
       "      <td>9</td>\n",
       "      <td>MAC 라이트풀 C3 스킨 리뉴얼 로션</td>\n",
       "      <td>4.892806</td>\n",
       "    </tr>\n",
       "    <tr>\n",
       "      <th>2491</th>\n",
       "      <td>10</td>\n",
       "      <td>제이엠솔루션 릴리프 약산성 약쑥 앰플 50ml</td>\n",
       "      <td>4.873543</td>\n",
       "    </tr>\n",
       "    <tr>\n",
       "      <th>2541</th>\n",
       "      <td>11</td>\n",
       "      <td>차앤박 옴므랩 리차징 로션 100ml 기획세트</td>\n",
       "      <td>4.846192</td>\n",
       "    </tr>\n",
       "    <tr>\n",
       "      <th>861</th>\n",
       "      <td>12</td>\n",
       "      <td>로벡틴 카밍 연꽃수 선크림 35ml 1+1 기획</td>\n",
       "      <td>4.843220</td>\n",
       "    </tr>\n",
       "    <tr>\n",
       "      <th>2332</th>\n",
       "      <td>13</td>\n",
       "      <td>유니크미 제주 방림원 화산송이동굴 100일 발효 탄력개선 마스크팩</td>\n",
       "      <td>4.842038</td>\n",
       "    </tr>\n",
       "    <tr>\n",
       "      <th>293</th>\n",
       "      <td>14</td>\n",
       "      <td>다슈 보이 파란 수분초 스킨 150ml 기획</td>\n",
       "      <td>4.830475</td>\n",
       "    </tr>\n",
       "    <tr>\n",
       "      <th>2246</th>\n",
       "      <td>15</td>\n",
       "      <td>오브제 데일리 수분 선크림 50ml</td>\n",
       "      <td>4.819591</td>\n",
       "    </tr>\n",
       "    <tr>\n",
       "      <th>1061</th>\n",
       "      <td>16</td>\n",
       "      <td>메디힐 마데카소사이드 에센셜 마스크 흔적 리페어</td>\n",
       "      <td>4.812295</td>\n",
       "    </tr>\n",
       "    <tr>\n",
       "      <th>1077</th>\n",
       "      <td>17</td>\n",
       "      <td>메디힐 에센셜 마스크팩 2+2매 기획 4종 택 1</td>\n",
       "      <td>4.804533</td>\n",
       "    </tr>\n",
       "    <tr>\n",
       "      <th>143</th>\n",
       "      <td>18</td>\n",
       "      <td>그라운드플랜 젤모이스처 110ml</td>\n",
       "      <td>4.803901</td>\n",
       "    </tr>\n",
       "    <tr>\n",
       "      <th>2252</th>\n",
       "      <td>19</td>\n",
       "      <td>오브제 올인원 더블 에센스 100ml</td>\n",
       "      <td>4.803396</td>\n",
       "    </tr>\n",
       "    <tr>\n",
       "      <th>2900</th>\n",
       "      <td>20</td>\n",
       "      <td>프리메이 올리브 시카 카밍 앰플 마스크 10매</td>\n",
       "      <td>4.803367</td>\n",
       "    </tr>\n",
       "  </tbody>\n",
       "</table>\n",
       "</div>"
      ],
      "text/plain": [
       "      rank                                 label  predicted_rating\n",
       "982      1                맥스클리닉 포어리스 딥 클렌징폼 150g          5.000000\n",
       "494      2        더마라인 디렉소 PDRN 솔루션 액티빙 토너 200ml          5.000000\n",
       "2801     3          파이코어 디퍼런씨 블루바이옴 리페어 선크림 40ml          4.948761\n",
       "29       4                 AHC 허브솔루션 레몬 토너 500ml          4.939521\n",
       "2454     5      잇츠스킨 파워 10 포뮬라 엘아이 이펙터 감초줄렌 60ml          4.932256\n",
       "487      6      더랩바이블랑두 저분자 히알루론산 딥 토너 리필캔 238ml          4.931922\n",
       "1996     7                 아이오페 맨 컴파운드 선스크린 50ml          4.930895\n",
       "3045     8                 헤라 하이드로 리플렉팅 토너 170ml          4.893888\n",
       "59       9                 MAC 라이트풀 C3 스킨 리뉴얼 로션          4.892806\n",
       "2491    10             제이엠솔루션 릴리프 약산성 약쑥 앰플 50ml          4.873543\n",
       "2541    11             차앤박 옴므랩 리차징 로션 100ml 기획세트          4.846192\n",
       "861     12            로벡틴 카밍 연꽃수 선크림 35ml 1+1 기획          4.843220\n",
       "2332    13  유니크미 제주 방림원 화산송이동굴 100일 발효 탄력개선 마스크팩          4.842038\n",
       "293     14              다슈 보이 파란 수분초 스킨 150ml 기획          4.830475\n",
       "2246    15                   오브제 데일리 수분 선크림 50ml          4.819591\n",
       "1061    16            메디힐 마데카소사이드 에센셜 마스크 흔적 리페어          4.812295\n",
       "1077    17           메디힐 에센셜 마스크팩 2+2매 기획 4종 택 1          4.804533\n",
       "143     18                    그라운드플랜 젤모이스처 110ml          4.803901\n",
       "2252    19                  오브제 올인원 더블 에센스 100ml          4.803396\n",
       "2900    20             프리메이 올리브 시카 카밍 앰플 마스크 10매          4.803367"
      ]
     },
     "execution_count": 224,
     "metadata": {},
     "output_type": "execute_result"
    }
   ],
   "source": [
    "# top10 추천 제품을 반환\n",
    "top20_products = recommend_products(algo, 'HEEGO', code_table_user, code_table_product, df)\n",
    "top20_products"
   ]
  },
  {
   "cell_type": "markdown",
   "metadata": {},
   "source": [
    "- SVD 모델이 정규화 된 (0-1)범위의 데이터로 학습 했더라도 예측값을 0~1 범위로만 주지 않음.\n",
    "- 즉, reshape시 5를 초과하거나 1미만의 예측평점이 나타 날 수 있음. "
   ]
  }
 ],
 "metadata": {
  "colab": {
   "provenance": []
  },
  "kernelspec": {
   "display_name": "Python 3",
   "name": "python3"
  },
  "language_info": {
   "codemirror_mode": {
    "name": "ipython",
    "version": 3
   },
   "file_extension": ".py",
   "mimetype": "text/x-python",
   "name": "python",
   "nbconvert_exporter": "python",
   "pygments_lexer": "ipython3",
   "version": "3.13.0"
  }
 },
 "nbformat": 4,
 "nbformat_minor": 0
}
